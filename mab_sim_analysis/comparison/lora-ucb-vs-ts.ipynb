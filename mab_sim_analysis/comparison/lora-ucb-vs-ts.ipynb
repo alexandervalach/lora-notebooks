{
 "cells": [
  {
   "cell_type": "markdown",
   "metadata": {},
   "source": [
    "# LoRa Data Analysis - UCB vs. TS\n"
   ]
  },
  {
   "cell_type": "markdown",
   "metadata": {},
   "source": [
    "We first declare a fixed parameters.\n",
    "\n",
    "Those parameters are not changed during the experiments.\n",
    "\n",
    "Fixed communication parameters are listed below:\n",
    "- Code Rate: 4/5\n",
    "- Frequency: 866.1 MHz\n",
    "- Bandwidth: 125 kHz\n",
    "\n",
    "End nodes:\n",
    "- were sending different types of uplink messages\n",
    "- were sending a single message each 2 minutes\n",
    "- comparison of upper confidence bound algorithm (UCB) and Thompson sampling (TS)\n",
    "\n",
    "Access points:\n",
    "- only a single access point was used\n",
    "- capture effect was also considered"
   ]
  },
  {
   "cell_type": "markdown",
   "metadata": {},
   "source": [
    "Initial declaration"
   ]
  },
  {
   "cell_type": "code",
   "execution_count": 1,
   "metadata": {},
   "outputs": [],
   "source": [
    "%matplotlib inline\n",
    "import pandas as pd # import pandas\n",
    "import numpy as np # import numpy\n",
    "import matplotlib as mpl # import matplotlib\n",
    "import matplotlib_inline as mpl_inl # import matplotlib_inline\n",
    "import matplotlib.pyplot as plt # import plotting module\n",
    "import statistics\n",
    "import math\n",
    "import base64\n",
    "from IPython.display import set_matplotlib_formats # module for svg export\n",
    "\n",
    "# Set output format for png figures\n",
    "output_format = 'png'\n",
    "mpl_inl.backend_inline.set_matplotlib_formats(output_format) # set export to svg file\n",
    "\n",
    "ts_uplink_file = 'ts_uplink_messages.csv'\n",
    "ucb_uplink_file = 'ucb_uplink_messages.csv'"
   ]
  },
  {
   "cell_type": "markdown",
   "metadata": {},
   "source": [
    "## Analysis of Uplink Messages"
   ]
  },
  {
   "cell_type": "markdown",
   "metadata": {},
   "source": [
    "We read a csv file with uplink messages"
   ]
  },
  {
   "cell_type": "code",
   "execution_count": 2,
   "metadata": {},
   "outputs": [],
   "source": [
    "ts_uplink_messages = pd.read_csv(ts_uplink_file, delimiter=',')\n",
    "ucb_uplink_messages = pd.read_csv(ucb_uplink_file, delimiter=',')"
   ]
  },
  {
   "cell_type": "markdown",
   "metadata": {},
   "source": [
    "Let us have a look at various columns that are present and can be evaluated."
   ]
  },
  {
   "cell_type": "code",
   "execution_count": 3,
   "metadata": {
    "scrolled": true
   },
   "outputs": [
    {
     "data": {
      "text/html": [
       "<div>\n",
       "<style scoped>\n",
       "    .dataframe tbody tr th:only-of-type {\n",
       "        vertical-align: middle;\n",
       "    }\n",
       "\n",
       "    .dataframe tbody tr th {\n",
       "        vertical-align: top;\n",
       "    }\n",
       "\n",
       "    .dataframe thead th {\n",
       "        text-align: right;\n",
       "    }\n",
       "</style>\n",
       "<table border=\"1\" class=\"dataframe\">\n",
       "  <thead>\n",
       "    <tr style=\"text-align: right;\">\n",
       "      <th></th>\n",
       "      <th>id</th>\n",
       "      <th>app_data</th>\n",
       "      <th>snr</th>\n",
       "      <th>rssi</th>\n",
       "      <th>duty_cycle_remaining</th>\n",
       "      <th>is_primary</th>\n",
       "      <th>receive_time</th>\n",
       "      <th>seq</th>\n",
       "      <th>frequency</th>\n",
       "      <th>spf</th>\n",
       "      <th>power</th>\n",
       "      <th>airtime</th>\n",
       "      <th>coderate</th>\n",
       "      <th>bandwidth</th>\n",
       "      <th>msg_group_number</th>\n",
       "      <th>message_type_id</th>\n",
       "      <th>ap_id</th>\n",
       "      <th>node_id</th>\n",
       "    </tr>\n",
       "  </thead>\n",
       "  <tbody>\n",
       "    <tr>\n",
       "      <th>0</th>\n",
       "      <td>127284</td>\n",
       "      <td>MTUwNy44LDcyODcuMg==</td>\n",
       "      <td>-14.5</td>\n",
       "      <td>-99.8</td>\n",
       "      <td>36000</td>\n",
       "      <td>t</td>\n",
       "      <td>2021-04-19 08:51:10.805</td>\n",
       "      <td>1</td>\n",
       "      <td>866100000</td>\n",
       "      <td>12</td>\n",
       "      <td>10</td>\n",
       "      <td>1294</td>\n",
       "      <td>4/5</td>\n",
       "      <td>125000</td>\n",
       "      <td>249</td>\n",
       "      <td>1</td>\n",
       "      <td>bbbbbb</td>\n",
       "      <td>OFeD</td>\n",
       "    </tr>\n",
       "    <tr>\n",
       "      <th>1</th>\n",
       "      <td>127285</td>\n",
       "      <td>MzM0NS4zLDY4NjkuNA==</td>\n",
       "      <td>4.3</td>\n",
       "      <td>-89.6</td>\n",
       "      <td>36000</td>\n",
       "      <td>t</td>\n",
       "      <td>2021-04-19 08:51:16.354</td>\n",
       "      <td>1</td>\n",
       "      <td>866100000</td>\n",
       "      <td>8</td>\n",
       "      <td>10</td>\n",
       "      <td>102</td>\n",
       "      <td>4/5</td>\n",
       "      <td>125000</td>\n",
       "      <td>405</td>\n",
       "      <td>1</td>\n",
       "      <td>bbbbbb</td>\n",
       "      <td>7wPG</td>\n",
       "    </tr>\n",
       "    <tr>\n",
       "      <th>2</th>\n",
       "      <td>127286</td>\n",
       "      <td>NDU5OC45LDQxMjEuMg==</td>\n",
       "      <td>-19.7</td>\n",
       "      <td>-66.6</td>\n",
       "      <td>36000</td>\n",
       "      <td>t</td>\n",
       "      <td>2021-04-19 08:51:21.894</td>\n",
       "      <td>1</td>\n",
       "      <td>866100000</td>\n",
       "      <td>9</td>\n",
       "      <td>14</td>\n",
       "      <td>183</td>\n",
       "      <td>4/5</td>\n",
       "      <td>125000</td>\n",
       "      <td>284</td>\n",
       "      <td>1</td>\n",
       "      <td>bbbbbb</td>\n",
       "      <td>LPcK</td>\n",
       "    </tr>\n",
       "    <tr>\n",
       "      <th>3</th>\n",
       "      <td>127287</td>\n",
       "      <td>MjE3OS4yLDE4OTguMg==</td>\n",
       "      <td>5.8</td>\n",
       "      <td>-99.9</td>\n",
       "      <td>36000</td>\n",
       "      <td>t</td>\n",
       "      <td>2021-04-19 08:51:26.936</td>\n",
       "      <td>1</td>\n",
       "      <td>866100000</td>\n",
       "      <td>11</td>\n",
       "      <td>10</td>\n",
       "      <td>714</td>\n",
       "      <td>4/5</td>\n",
       "      <td>125000</td>\n",
       "      <td>98</td>\n",
       "      <td>1</td>\n",
       "      <td>bbbbbb</td>\n",
       "      <td>pAEx</td>\n",
       "    </tr>\n",
       "    <tr>\n",
       "      <th>4</th>\n",
       "      <td>127288</td>\n",
       "      <td>ODk5Ny4xLDE5MjguMg==</td>\n",
       "      <td>0.6</td>\n",
       "      <td>-99.6</td>\n",
       "      <td>36000</td>\n",
       "      <td>t</td>\n",
       "      <td>2021-04-19 08:51:31.424</td>\n",
       "      <td>1</td>\n",
       "      <td>866100000</td>\n",
       "      <td>8</td>\n",
       "      <td>14</td>\n",
       "      <td>102</td>\n",
       "      <td>4/5</td>\n",
       "      <td>125000</td>\n",
       "      <td>326</td>\n",
       "      <td>2</td>\n",
       "      <td>bbbbbb</td>\n",
       "      <td>DPPo</td>\n",
       "    </tr>\n",
       "  </tbody>\n",
       "</table>\n",
       "</div>"
      ],
      "text/plain": [
       "       id              app_data   snr  rssi  duty_cycle_remaining is_primary  \\\n",
       "0  127284  MTUwNy44LDcyODcuMg== -14.5 -99.8                 36000          t   \n",
       "1  127285  MzM0NS4zLDY4NjkuNA==   4.3 -89.6                 36000          t   \n",
       "2  127286  NDU5OC45LDQxMjEuMg== -19.7 -66.6                 36000          t   \n",
       "3  127287  MjE3OS4yLDE4OTguMg==   5.8 -99.9                 36000          t   \n",
       "4  127288  ODk5Ny4xLDE5MjguMg==   0.6 -99.6                 36000          t   \n",
       "\n",
       "              receive_time  seq  frequency  spf  power  airtime coderate  \\\n",
       "0  2021-04-19 08:51:10.805    1  866100000   12     10     1294      4/5   \n",
       "1  2021-04-19 08:51:16.354    1  866100000    8     10      102      4/5   \n",
       "2  2021-04-19 08:51:21.894    1  866100000    9     14      183      4/5   \n",
       "3  2021-04-19 08:51:26.936    1  866100000   11     10      714      4/5   \n",
       "4  2021-04-19 08:51:31.424    1  866100000    8     14      102      4/5   \n",
       "\n",
       "   bandwidth  msg_group_number  message_type_id   ap_id node_id  \n",
       "0     125000               249                1  bbbbbb    OFeD  \n",
       "1     125000               405                1  bbbbbb    7wPG  \n",
       "2     125000               284                1  bbbbbb    LPcK  \n",
       "3     125000                98                1  bbbbbb    pAEx  \n",
       "4     125000               326                2  bbbbbb    DPPo  "
      ]
     },
     "execution_count": 3,
     "metadata": {},
     "output_type": "execute_result"
    }
   ],
   "source": [
    "ts_uplink_messages.head()"
   ]
  },
  {
   "cell_type": "code",
   "execution_count": 4,
   "metadata": {},
   "outputs": [
    {
     "data": {
      "text/html": [
       "<div>\n",
       "<style scoped>\n",
       "    .dataframe tbody tr th:only-of-type {\n",
       "        vertical-align: middle;\n",
       "    }\n",
       "\n",
       "    .dataframe tbody tr th {\n",
       "        vertical-align: top;\n",
       "    }\n",
       "\n",
       "    .dataframe thead th {\n",
       "        text-align: right;\n",
       "    }\n",
       "</style>\n",
       "<table border=\"1\" class=\"dataframe\">\n",
       "  <thead>\n",
       "    <tr style=\"text-align: right;\">\n",
       "      <th></th>\n",
       "      <th>id</th>\n",
       "      <th>app_data</th>\n",
       "      <th>snr</th>\n",
       "      <th>rssi</th>\n",
       "      <th>duty_cycle_remaining</th>\n",
       "      <th>is_primary</th>\n",
       "      <th>receive_time</th>\n",
       "      <th>seq</th>\n",
       "      <th>frequency</th>\n",
       "      <th>spf</th>\n",
       "      <th>power</th>\n",
       "      <th>airtime</th>\n",
       "      <th>coderate</th>\n",
       "      <th>bandwidth</th>\n",
       "      <th>msg_group_number</th>\n",
       "      <th>message_type_id</th>\n",
       "      <th>ap_id</th>\n",
       "      <th>node_id</th>\n",
       "    </tr>\n",
       "  </thead>\n",
       "  <tbody>\n",
       "    <tr>\n",
       "      <th>0</th>\n",
       "      <td>102854</td>\n",
       "      <td>NzA3Ni44LDEzNTkuMQ==</td>\n",
       "      <td>2.5</td>\n",
       "      <td>-99.9</td>\n",
       "      <td>36000</td>\n",
       "      <td>t</td>\n",
       "      <td>2021-04-10 09:40:22.512</td>\n",
       "      <td>1</td>\n",
       "      <td>866100000</td>\n",
       "      <td>7</td>\n",
       "      <td>10</td>\n",
       "      <td>58</td>\n",
       "      <td>4/5</td>\n",
       "      <td>125000</td>\n",
       "      <td>124</td>\n",
       "      <td>1</td>\n",
       "      <td>111111</td>\n",
       "      <td>t3w0</td>\n",
       "    </tr>\n",
       "    <tr>\n",
       "      <th>1</th>\n",
       "      <td>102855</td>\n",
       "      <td>NTc4My4zLDQ5MDkuNw==</td>\n",
       "      <td>-17.4</td>\n",
       "      <td>-66.5</td>\n",
       "      <td>36000</td>\n",
       "      <td>t</td>\n",
       "      <td>2021-04-10 09:40:27.567</td>\n",
       "      <td>1</td>\n",
       "      <td>866100000</td>\n",
       "      <td>7</td>\n",
       "      <td>10</td>\n",
       "      <td>58</td>\n",
       "      <td>4/5</td>\n",
       "      <td>125000</td>\n",
       "      <td>111</td>\n",
       "      <td>2</td>\n",
       "      <td>111111</td>\n",
       "      <td>j6eI</td>\n",
       "    </tr>\n",
       "    <tr>\n",
       "      <th>2</th>\n",
       "      <td>102856</td>\n",
       "      <td>NzU4LjgsNjEzNS43</td>\n",
       "      <td>-12.6</td>\n",
       "      <td>-100.8</td>\n",
       "      <td>36000</td>\n",
       "      <td>t</td>\n",
       "      <td>2021-04-10 09:40:32.565</td>\n",
       "      <td>1</td>\n",
       "      <td>866100000</td>\n",
       "      <td>7</td>\n",
       "      <td>10</td>\n",
       "      <td>52</td>\n",
       "      <td>4/5</td>\n",
       "      <td>125000</td>\n",
       "      <td>155</td>\n",
       "      <td>2</td>\n",
       "      <td>111111</td>\n",
       "      <td>Qihc</td>\n",
       "    </tr>\n",
       "    <tr>\n",
       "      <th>3</th>\n",
       "      <td>102857</td>\n",
       "      <td>Njc2NC45LDMwNjAuMg==</td>\n",
       "      <td>-12.6</td>\n",
       "      <td>-90.5</td>\n",
       "      <td>36000</td>\n",
       "      <td>t</td>\n",
       "      <td>2021-04-10 09:40:38.065</td>\n",
       "      <td>1</td>\n",
       "      <td>866100000</td>\n",
       "      <td>7</td>\n",
       "      <td>10</td>\n",
       "      <td>58</td>\n",
       "      <td>4/5</td>\n",
       "      <td>125000</td>\n",
       "      <td>193</td>\n",
       "      <td>1</td>\n",
       "      <td>111111</td>\n",
       "      <td>iOK8</td>\n",
       "    </tr>\n",
       "    <tr>\n",
       "      <th>4</th>\n",
       "      <td>102858</td>\n",
       "      <td>OTExMy4xLDI4OTAuOA==</td>\n",
       "      <td>-17.6</td>\n",
       "      <td>-101.9</td>\n",
       "      <td>36000</td>\n",
       "      <td>t</td>\n",
       "      <td>2021-04-10 09:40:43.606</td>\n",
       "      <td>1</td>\n",
       "      <td>866100000</td>\n",
       "      <td>7</td>\n",
       "      <td>10</td>\n",
       "      <td>58</td>\n",
       "      <td>4/5</td>\n",
       "      <td>125000</td>\n",
       "      <td>252</td>\n",
       "      <td>1</td>\n",
       "      <td>111111</td>\n",
       "      <td>96VU</td>\n",
       "    </tr>\n",
       "  </tbody>\n",
       "</table>\n",
       "</div>"
      ],
      "text/plain": [
       "       id              app_data   snr   rssi  duty_cycle_remaining is_primary  \\\n",
       "0  102854  NzA3Ni44LDEzNTkuMQ==   2.5  -99.9                 36000          t   \n",
       "1  102855  NTc4My4zLDQ5MDkuNw== -17.4  -66.5                 36000          t   \n",
       "2  102856      NzU4LjgsNjEzNS43 -12.6 -100.8                 36000          t   \n",
       "3  102857  Njc2NC45LDMwNjAuMg== -12.6  -90.5                 36000          t   \n",
       "4  102858  OTExMy4xLDI4OTAuOA== -17.6 -101.9                 36000          t   \n",
       "\n",
       "              receive_time  seq  frequency  spf  power  airtime coderate  \\\n",
       "0  2021-04-10 09:40:22.512    1  866100000    7     10       58      4/5   \n",
       "1  2021-04-10 09:40:27.567    1  866100000    7     10       58      4/5   \n",
       "2  2021-04-10 09:40:32.565    1  866100000    7     10       52      4/5   \n",
       "3  2021-04-10 09:40:38.065    1  866100000    7     10       58      4/5   \n",
       "4  2021-04-10 09:40:43.606    1  866100000    7     10       58      4/5   \n",
       "\n",
       "   bandwidth  msg_group_number  message_type_id   ap_id node_id  \n",
       "0     125000               124                1  111111    t3w0  \n",
       "1     125000               111                2  111111    j6eI  \n",
       "2     125000               155                2  111111    Qihc  \n",
       "3     125000               193                1  111111    iOK8  \n",
       "4     125000               252                1  111111    96VU  "
      ]
     },
     "execution_count": 4,
     "metadata": {},
     "output_type": "execute_result"
    }
   ],
   "source": [
    "ucb_uplink_messages.head()"
   ]
  },
  {
   "cell_type": "markdown",
   "metadata": {},
   "source": [
    "Remove all columns that have fixed values or there is no point in their analysis."
   ]
  },
  {
   "cell_type": "markdown",
   "metadata": {},
   "source": [
    "### Payload Length"
   ]
  },
  {
   "cell_type": "code",
   "execution_count": 7,
   "metadata": {
    "scrolled": true
   },
   "outputs": [],
   "source": [
    "ts_uplink_messages['payload_len'] = ts_uplink_messages.app_data.apply(len)\n",
    "ucb_uplink_messages['payload_len'] = ucb_uplink_messages.app_data.apply(len)"
   ]
  },
  {
   "cell_type": "code",
   "execution_count": 8,
   "metadata": {},
   "outputs": [
    {
     "name": "stdout",
     "output_type": "stream",
     "text": [
      "Mean value of payload length for TS is 43 B\n",
      "Mean value of payload length for UCB is 43 B\n"
     ]
    }
   ],
   "source": [
    "ts_payload_len = round(statistics.mean(ts_uplink_messages.payload_len))\n",
    "ucb_payload_len = round(statistics.mean(ucb_uplink_messages.payload_len))\n",
    "\n",
    "print(f'Mean value of payload length for TS is {ts_payload_len} B')\n",
    "print(f'Mean value of payload length for UCB is {ucb_payload_len} B')"
   ]
  },
  {
   "cell_type": "markdown",
   "metadata": {},
   "source": [
    "### Spreading Factor"
   ]
  },
  {
   "cell_type": "code",
   "execution_count": 9,
   "metadata": {},
   "outputs": [],
   "source": [
    "sf1 = ts_uplink_messages.spf.value_counts()\n",
    "sf2 = ucb_uplink_messages.spf.value_counts()\n",
    "\n",
    "diff = abs(sf1 - sf2)\n",
    "diff.fillna(0)\n",
    "sf_ts = [sf1, diff]\n",
    "sf_ts = pd.concat(sf_ts, axis=1, sort=False).sum(axis=1)\n",
    "sf_ts.sort_index(ascending=False, inplace=True)\n",
    "\n",
    "diff = abs(sf2 - sf1)\n",
    "diff.fillna(0)\n",
    "sf_ucb = [sf2, diff]\n",
    "sf_ucb = pd.concat(sf_ucb, axis=1, sort=False).sum(axis=1)\n",
    "sf_ucb.sort_index(ascending=False, inplace=True)"
   ]
  },
  {
   "cell_type": "code",
   "execution_count": 24,
   "metadata": {
    "scrolled": true
   },
   "outputs": [
    {
     "data": {
      "image/png": "[encoded data removed]",
      "text/plain": [
       "<Figure size 1000x400 with 1 Axes>"
      ]
     },
     "metadata": {},
     "output_type": "display_data"
    }
   ],
   "source": [
    "# Create a grouped bar chart, with job as the x-axis\n",
    "# and gender as the variable we're grouping on so there\n",
    "# are two bars per job.\n",
    "fig, ax = plt.subplots(figsize=(10, 4))\n",
    "\n",
    "# Define bar width. We need this to offset the second bar.\n",
    "bar_width = 0.3\n",
    "index = np.arange(len(sf_ts))\n",
    "\n",
    "ax.bar(index, sf_ts, width=bar_width, color='purple', label = 'TS')\n",
    "# Same thing, but offset the x.\n",
    "ax.bar(index + bar_width, sf_ucb, width=bar_width, color='blue', label = 'UCB')\n",
    "\n",
    "# Fix the x-axes.\n",
    "ax.set_xticks(index + bar_width / 2)\n",
    "ax.set_xticklabels(sf_ucb.index)\n",
    "\n",
    "# Add legend.\n",
    "ax.legend()\n",
    "\n",
    "# Axis styling.\n",
    "ax.spines['top'].set_visible(False)\n",
    "ax.spines['right'].set_visible(False)\n",
    "ax.spines['left'].set_visible(False)\n",
    "ax.spines['bottom'].set_color('#DDDDDD')\n",
    "ax.tick_params(bottom=False, left=False)\n",
    "ax.set_axisbelow(True)\n",
    "ax.yaxis.grid(True, color='#EEEEEE')\n",
    "ax.xaxis.grid(False)\n",
    "\n",
    "# Add axis and chart labels.\n",
    "ax.set_xlabel('Spreading Factor', labelpad=15)\n",
    "ax.set_ylabel('Number of Messages', labelpad=15)\n",
    "ax.set_title('Utilization of Spreading Factor', pad=15)\n",
    "\n",
    "fig.tight_layout()\n",
    "\n",
    "# For each bar in the chart, add a text label.\n",
    "for bar in ax.patches:\n",
    "  # The text annotation for each bar should be its height.\n",
    "  bar_value = round(bar.get_height())\n",
    "  # Format the text with commas to separate thousands. You can do\n",
    "  # any type of formatting here though.\n",
    "  text = f'{bar_value:,}'\n",
    "  # This will give the middle of each bar on the x-axis.\n",
    "  text_x = bar.get_x() + bar.get_width() / 2\n",
    "  # get_y() is where the bar starts so we add the height to it.\n",
    "  text_y = bar.get_y() + bar_value\n",
    "  # If we want the text to be the same color as the bar, we can\n",
    "  # get the color like so:\n",
    "  bar_color = bar.get_facecolor()\n",
    "  # If you want a consistent color, you can just set it as a constant, e.g. #222222\n",
    "  ax.text(text_x, text_y, text, ha='center', va='bottom', color=bar_color, size=10)\n",
    "    \n",
    "fig.savefig(f'ts-ucb-sf.{output_format}', dpi=300)"
   ]
  },
  {
   "cell_type": "markdown",
   "metadata": {},
   "source": [
    "All nodes used the same frequency to increase a probability of collisions."
   ]
  },
  {
   "cell_type": "markdown",
   "metadata": {},
   "source": [
    "We have only a single Access Point."
   ]
  },
  {
   "cell_type": "markdown",
   "metadata": {},
   "source": [
    "## Analysis of End Nodes"
   ]
  },
  {
   "cell_type": "markdown",
   "metadata": {},
   "source": [
    "Analysis of certain aspects (active time, sleep time and collisions) of end devices."
   ]
  },
  {
   "cell_type": "code",
   "execution_count": 11,
   "metadata": {},
   "outputs": [
    {
     "name": "stdout",
     "output_type": "stream",
     "text": [
      "Number of end nodes participating for TS is 97.\n",
      "Number of end nodes participating for UCB is 88.\n"
     ]
    }
   ],
   "source": [
    "ts_unique_ens = ts_uplink_messages.node_id.nunique()\n",
    "ucb_unique_ens = ucb_uplink_messages.node_id.nunique()\n",
    "\n",
    "print(f'Number of end nodes participating for TS is {ts_unique_ens}.')\n",
    "print(f'Number of end nodes participating for UCB is {ucb_unique_ens}.')"
   ]
  },
  {
   "cell_type": "code",
   "execution_count": 12,
   "metadata": {},
   "outputs": [],
   "source": [
    "ts_end_nodes = pd.read_csv(f'ts_end_nodes.csv', delimiter=',')\n",
    "ucb_end_nodes = pd.read_csv(f'ucb_end_nodes.csv', delimiter=',')"
   ]
  },
  {
   "cell_type": "markdown",
   "metadata": {},
   "source": [
    "### Collision Ratio"
   ]
  },
  {
   "cell_type": "code",
   "execution_count": 13,
   "metadata": {},
   "outputs": [
    {
     "name": "stdout",
     "output_type": "stream",
     "text": [
      "Max number of collisions for TS: 25\n",
      "Min number of collisions for TS: 0\n",
      "Max number of collisions for UCB: 22\n",
      "Min number of collisions for UCB: 0\n"
     ]
    }
   ],
   "source": [
    "ts_collisions = ts_end_nodes.collisions\n",
    "ucb_collisions = ucb_end_nodes.collisions\n",
    "\n",
    "ts_max_collisions = max(ts_end_nodes.collisions)\n",
    "ts_min_collisions = min(ts_end_nodes.collisions)\n",
    "ucb_max_collisions = max(ucb_end_nodes.collisions)\n",
    "ucb_min_collisions = min(ucb_end_nodes.collisions)\n",
    "\n",
    "max_collisions = max(ts_max_collisions, ucb_max_collisions)\n",
    "min_collisions = min(ts_min_collisions, ucb_min_collisions)\n",
    "range_collisions = max_collisions - min_collisions\n",
    "buckets = 12\n",
    "increment = range_collisions / buckets\n",
    "\n",
    "print(f'Max number of collisions for TS: {ts_max_collisions}')\n",
    "print(f'Min number of collisions for TS: {ts_min_collisions}')\n",
    "print(f'Max number of collisions for UCB: {ucb_max_collisions}')\n",
    "print(f'Min number of collisions for UCB: {ucb_min_collisions}')"
   ]
  },
  {
   "cell_type": "code",
   "execution_count": 14,
   "metadata": {},
   "outputs": [],
   "source": [
    "out_ts = ts_collisions[ts_collisions <= 15]\n",
    "ts_collision_count = out_ts.value_counts(sort=False)\n",
    "out_ucb = ucb_collisions[ucb_collisions <= 15]\n",
    "ucb_collision_count = out_ucb.value_counts(sort=False)\n",
    "\n",
    "diff = abs(ts_collision_count - ucb_collision_count)\n",
    "diff.fillna(0)\n",
    "ts_values = [ts_collision_count, diff]\n",
    "ts_values = pd.concat(ts_values, axis=1, sort=False).sum(axis=1)\n",
    "ts_values.sort_index(ascending=False, inplace=True)\n",
    "\n",
    "diff = abs(ucb_collision_count - ts_collision_count)\n",
    "diff.fillna(0)\n",
    "ucb_values = [ucb_collision_count, diff]\n",
    "ucb_values = pd.concat(ucb_values, axis=1, sort=False).sum(axis=1)\n",
    "ucb_values.sort_index(ascending=False, inplace=True)"
   ]
  },
  {
   "cell_type": "code",
   "execution_count": 15,
   "metadata": {},
   "outputs": [
    {
     "name": "stdout",
     "output_type": "stream",
     "text": [
      "Three highest values with are omitted for clarity (only 1 device each)\n"
     ]
    },
    {
     "data": {
      "image/png": "[encoded data removed]",
      "text/plain": [
       "<Figure size 1000x400 with 1 Axes>"
      ]
     },
     "metadata": {},
     "output_type": "display_data"
    }
   ],
   "source": [
    "fig, ax = plt.subplots(figsize=(10, 4))\n",
    "\n",
    "bar_width = 0.4\n",
    "#index = np.arange(buckets)\n",
    "#bins = []\n",
    "\n",
    "#for i in range(buckets + 1):\n",
    "#    bins.append(round(min_collisions + i * increment))\n",
    "\n",
    "#out_ts = pd.cut(ts_collisions, bins=bins)\n",
    "#ts_values = out_ts.value_counts(sort=False).iloc[::-1]\n",
    "\n",
    "#out_ucb = pd.cut(ucb_collisions, bins=bins)\n",
    "#ucb_values = out_ucb.value_counts(sort=False).iloc[::-1]\n",
    "\n",
    "ax.bar(ts_values.index, ts_values, width=bar_width, color='purple', label='TS')\n",
    "ax.bar(ts_values.index + bar_width, ucb_values, width=bar_width, color='blue', label='UCB')\n",
    "\n",
    "ax.set_xticks(ts_values.index + bar_width / 2)\n",
    "ax.set_xticklabels(ts_values.index)\n",
    "\n",
    "ax.legend()\n",
    "\n",
    "ax.spines['top'].set_visible(False)\n",
    "ax.spines['right'].set_visible(False)\n",
    "ax.spines['left'].set_visible(False)\n",
    "ax.spines['bottom'].set_color('#DDDDDD')\n",
    "ax.tick_params(bottom=False, left=False)\n",
    "ax.set_axisbelow(True)\n",
    "ax.yaxis.grid(True, color='#EEEEEE')\n",
    "ax.xaxis.grid(False)\n",
    "\n",
    "ax.set_xlabel('Number of Collisions', labelpad=15)\n",
    "ax.set_ylabel('Number of Devices', labelpad=15)\n",
    "ax.set_title('Collision Rate', pad=15)\n",
    "\n",
    "fig.tight_layout()\n",
    "\n",
    "for bar in ax.patches:\n",
    "  bar_value = round(bar.get_height())\n",
    "  text = f'{bar_value:,}'\n",
    "  text_x = bar.get_x() + bar.get_width() / 2\n",
    "  text_y = bar.get_y() + bar_value\n",
    "  bar_color = bar.get_facecolor()\n",
    "  ax.text(text_x, text_y, text, ha='center', va='bottom', color=bar_color, size=10)\n",
    "    \n",
    "fig.savefig(f'ts-ucb-collisions.{output_format}', dpi=300)\n",
    "print(f'Three highest values with are omitted for clarity (only 1 device each)')"
   ]
  },
  {
   "cell_type": "code",
   "execution_count": 16,
   "metadata": {},
   "outputs": [
    {
     "name": "stdout",
     "output_type": "stream",
     "text": [
      "Mean collision number for TS is 5\n",
      "Mean collision number for UCB is 4\n"
     ]
    }
   ],
   "source": [
    "print(f'Mean collision number for TS is {round(statistics.mean(ts_collisions))}')\n",
    "print(f'Mean collision number for UCB is {round(statistics.mean(ucb_collisions))}')"
   ]
  },
  {
   "cell_type": "markdown",
   "metadata": {},
   "source": [
    "### Ration between active time and total nodes uptime"
   ]
  },
  {
   "cell_type": "code",
   "execution_count": 17,
   "metadata": {},
   "outputs": [
    {
     "name": "stdout",
     "output_type": "stream",
     "text": [
      "TS nodes spent 3.03% of their uptime in active mode\n",
      "UCB nodes spent 2.5% of their uptime in active mode\n"
     ]
    }
   ],
   "source": [
    "ts_energy = (ts_end_nodes.active_time / ts_end_nodes.uptime)\n",
    "ts_active_time = round(statistics.mean(ts_energy) * 100, 2)\n",
    "ucb_energy = (ucb_end_nodes.active_time / ucb_end_nodes.uptime)\n",
    "ucb_active_time = round(statistics.mean(ucb_energy) * 100, 2)\n",
    "\n",
    "print(f'TS nodes spent {ts_active_time}% of their uptime in active mode')\n",
    "print(f'UCB nodes spent {ucb_active_time}% of their uptime in active mode')"
   ]
  },
  {
   "cell_type": "markdown",
   "metadata": {},
   "source": [
    "### Packet Delivery Ratio (PDR)"
   ]
  },
  {
   "cell_type": "markdown",
   "metadata": {},
   "source": [
    "Evaluation of packet delivery ratio for end nodes."
   ]
  },
  {
   "cell_type": "markdown",
   "metadata": {},
   "source": [
    "Add message count from uplink data and collisions."
   ]
  },
  {
   "cell_type": "code",
   "execution_count": 18,
   "metadata": {},
   "outputs": [],
   "source": [
    "ucb_data = ucb_uplink_messages.node_id.value_counts()\n",
    "ucb_nodes = pd.DataFrame({}, columns = ['dev_id', 'collisions', 'messages'])\n",
    "\n",
    "collisions = []\n",
    "messages = []\n",
    "dev_id = []\n",
    "\n",
    "for index,value in ucb_data.items():\n",
    "    dev_id.append(index)\n",
    "    collision_count = ucb_end_nodes.loc[ucb_end_nodes.dev_id == index].collisions.values[0]\n",
    "    collisions.append(collision_count)\n",
    "    messages.append(value + collision_count)\n",
    "\n",
    "ucb_nodes['dev_id'] = dev_id\n",
    "ucb_nodes['collisions'] = collisions\n",
    "ucb_nodes['messages'] = messages"
   ]
  },
  {
   "cell_type": "code",
   "execution_count": 19,
   "metadata": {},
   "outputs": [
    {
     "name": "stdout",
     "output_type": "stream",
     "text": [
      "Mean value of PDR for TS is 97.69%\n",
      "Mean value of PDR for UCB is 80.85%\n"
     ]
    }
   ],
   "source": [
    "ts_end_nodes['pdr'] = round((1 - (ts_end_nodes.collisions / ts_end_nodes.messages))*100, 2)\n",
    "ts_mean_pdr = round(statistics.mean(ts_end_nodes.pdr), 2)\n",
    "\n",
    "ucb_nodes['pdr'] = round((1 - (ucb_nodes.collisions / ucb_nodes.messages))*100, 2)\n",
    "ucb_mean_pdr = round(statistics.mean(ucb_nodes.pdr), 2)\n",
    "\n",
    "print(f'Mean value of PDR for TS is {ts_mean_pdr}%')\n",
    "print(f'Mean value of PDR for UCB is {ucb_mean_pdr}%')"
   ]
  },
  {
   "cell_type": "code",
   "execution_count": 20,
   "metadata": {
    "scrolled": true
   },
   "outputs": [
    {
     "name": "stdout",
     "output_type": "stream",
     "text": [
      "Max PDR for TS: 100.0%\n",
      "Min PDR for TS: 86.26%\n",
      "Max PDR for UCB: 100.0%\n",
      "Min PDR for UCB: 9.09%\n"
     ]
    }
   ],
   "source": [
    "ts_max_pdr = max(ts_end_nodes.pdr)\n",
    "ts_min_pdr = min(ts_end_nodes.pdr)\n",
    "ucb_max_pdr = max(ucb_nodes.pdr)\n",
    "ucb_min_pdr = min(ucb_nodes.pdr)\n",
    "\n",
    "max_pdr = max(ts_max_pdr, ucb_max_pdr)\n",
    "min_pdr = min(ts_min_pdr, ucb_min_pdr)\n",
    "range_pdr = max_pdr - min_pdr\n",
    "buckets = 12\n",
    "increment = math.ceil(range_pdr / buckets)\n",
    "\n",
    "print(f'Max PDR for TS: {ts_max_pdr}%')\n",
    "print(f'Min PDR for TS: {ts_min_pdr}%')\n",
    "print(f'Max PDR for UCB: {ucb_max_pdr}%')\n",
    "print(f'Min PDR for UCB: {ucb_min_pdr}%')"
   ]
  },
  {
   "cell_type": "code",
   "execution_count": 21,
   "metadata": {},
   "outputs": [
    {
     "data": {
      "image/png": "[encoded data removed]",
      "text/plain": [
       "<Figure size 1000x400 with 1 Axes>"
      ]
     },
     "metadata": {},
     "output_type": "display_data"
    }
   ],
   "source": [
    "fig, ax = plt.subplots(figsize=(10, 4))\n",
    "bins = []\n",
    "bar_width = 0.4\n",
    "index = np.arange(buckets)\n",
    "\n",
    "for i in range(buckets + 1):\n",
    "    bins.append(min(round(min_pdr + i * increment), 100))\n",
    "\n",
    "out_ts = pd.cut(ts_end_nodes.pdr, bins=bins)\n",
    "ts_values = out_ts.value_counts(sort=False).iloc[::-1]\n",
    "\n",
    "out_ucb = pd.cut(ucb_nodes.pdr, bins=bins)\n",
    "ucb_values = out_ucb.value_counts(sort=False).iloc[::-1]\n",
    "\n",
    "ax.bar(index, ts_values, width=bar_width, color='purple', label='TS')\n",
    "ax.bar(index + bar_width, ucb_values, width=bar_width, color='blue', label='UCB')\n",
    "\n",
    "ax.set_xticks(index + bar_width / 2)\n",
    "ax.set_xticklabels(ts_values.index, rotation=45)\n",
    "\n",
    "ax.legend()\n",
    "\n",
    "ax.spines['top'].set_visible(False)\n",
    "ax.spines['right'].set_visible(False)\n",
    "ax.spines['left'].set_visible(False)\n",
    "ax.spines['bottom'].set_color('#DDDDDD')\n",
    "ax.tick_params(bottom=False, left=False)\n",
    "ax.set_axisbelow(True)\n",
    "ax.yaxis.grid(True, color='#EEEEEE')\n",
    "ax.xaxis.grid(False)\n",
    "\n",
    "ax.set_xlabel('Packet Delivery Ratio [%]', labelpad=15)\n",
    "ax.set_ylabel('Number of Devices', labelpad=15)\n",
    "ax.set_title('Comparison of PDR', pad=15)\n",
    "\n",
    "fig.tight_layout()\n",
    "\n",
    "for bar in ax.patches:\n",
    "  bar_value = round(bar.get_height())\n",
    "  text = f'{bar_value:,}'\n",
    "  text_x = bar.get_x() + bar.get_width() / 2\n",
    "  text_y = bar.get_y() + bar_value\n",
    "  bar_color = bar.get_facecolor()\n",
    "  ax.text(text_x, text_y, text, ha='center', va='bottom', color=bar_color, size=10)\n",
    "\n",
    "fig.savefig(f'ts-ucb-pdr.{output_format}', dpi=300)"
   ]
  },
  {
   "cell_type": "markdown",
   "metadata": {
    "jp-MarkdownHeadingCollapsed": true
   },
   "source": [
    "## Path of Each End Node"
   ]
  },
  {
   "cell_type": "markdown",
   "metadata": {},
   "source": [
    "Data about position are encoded as base64."
   ]
  },
  {
   "cell_type": "markdown",
   "metadata": {},
   "source": [
    "Decode base64, extract position and save the results to original data frame."
   ]
  },
  {
   "cell_type": "code",
   "execution_count": 22,
   "metadata": {},
   "outputs": [
    {
     "ename": "IndexError",
     "evalue": "list index out of range",
     "output_type": "error",
     "traceback": [
      "\u001b[0;31m---------------------------------------------------------------------------\u001b[0m",
      "\u001b[0;31mIndexError\u001b[0m                                Traceback (most recent call last)",
      "Cell \u001b[0;32mIn[22], line 12\u001b[0m\n\u001b[1;32m     10\u001b[0m \u001b[38;5;28;01mfor\u001b[39;00m row \u001b[38;5;129;01min\u001b[39;00m ts_app_data:\n\u001b[1;32m     11\u001b[0m     x\u001b[38;5;241m.\u001b[39mappend(\u001b[38;5;28mround\u001b[39m(\u001b[38;5;28mfloat\u001b[39m(row[\u001b[38;5;241m1\u001b[39m]\u001b[38;5;241m.\u001b[39msplit(\u001b[38;5;124m'\u001b[39m\u001b[38;5;130;01m\\'\u001b[39;00m\u001b[38;5;124m'\u001b[39m)[\u001b[38;5;241m0\u001b[39m]), \u001b[38;5;241m2\u001b[39m) \u001b[38;5;241m/\u001b[39m \u001b[38;5;241m1000\u001b[39m)\n\u001b[0;32m---> 12\u001b[0m     y\u001b[38;5;241m.\u001b[39mappend(\u001b[38;5;28mround\u001b[39m(\u001b[38;5;28mfloat\u001b[39m(\u001b[43mrow\u001b[49m\u001b[43m[\u001b[49m\u001b[38;5;241;43m0\u001b[39;49m\u001b[43m]\u001b[49m\u001b[38;5;241;43m.\u001b[39;49m\u001b[43msplit\u001b[49m\u001b[43m(\u001b[49m\u001b[38;5;124;43m'\u001b[39;49m\u001b[38;5;130;43;01m\\'\u001b[39;49;00m\u001b[38;5;124;43m'\u001b[39;49m\u001b[43m)\u001b[49m\u001b[43m[\u001b[49m\u001b[38;5;241;43m1\u001b[39;49m\u001b[43m]\u001b[49m), \u001b[38;5;241m2\u001b[39m) \u001b[38;5;241m/\u001b[39m \u001b[38;5;241m1000\u001b[39m)\n\u001b[1;32m     14\u001b[0m ts_uplink_messages[\u001b[38;5;124m'\u001b[39m\u001b[38;5;124mx\u001b[39m\u001b[38;5;124m'\u001b[39m] \u001b[38;5;241m=\u001b[39m x\n\u001b[1;32m     15\u001b[0m ts_uplink_messages[\u001b[38;5;124m'\u001b[39m\u001b[38;5;124my\u001b[39m\u001b[38;5;124m'\u001b[39m] \u001b[38;5;241m=\u001b[39m y\n",
      "\u001b[0;31mIndexError\u001b[0m: list index out of range"
     ]
    }
   ],
   "source": [
    "# Extracting X and Y coordinates from payload\n",
    "ts_app_data = ts_uplink_messages.app_data.apply(base64.b64decode)\n",
    "ts_app_data = ts_app_data.astype(str)\n",
    "ts_app_data = ts_app_data.str.split(',')\n",
    "\n",
    "df = pd.DataFrame({}, columns = ['node_id', 'x', 'y'])\n",
    "x = []\n",
    "y = []\n",
    "\n",
    "for row in ts_app_data:\n",
    "    x.append(round(float(row[1].split('\\'')[0]), 2) / 1000)\n",
    "    y.append(round(float(row[0].split('\\'')[1]), 2) / 1000)\n",
    "\n",
    "ts_uplink_messages['x'] = x\n",
    "ts_uplink_messages['y'] = y\n",
    "\n",
    "# Same for the second algorithm\n",
    "ucb_app_data = ucb_uplink_messages.app_data.apply(base64.b64decode)\n",
    "ucb_app_data = ucb_app_data.astype(str)\n",
    "ucb_app_data = ucb_app_data.str.split(',')\n",
    "\n",
    "df = pd.DataFrame({}, columns = ['node_id', 'x', 'y'])\n",
    "x = []\n",
    "y = []\n",
    "\n",
    "for row in ucb_app_data:\n",
    "    x.append(round(float(row[1].split('\\'')[0]), 2) / 1000)\n",
    "    y.append(round(float(row[0].split('\\'')[1]), 2) / 1000)\n",
    "\n",
    "ucb_uplink_messages['x'] = x\n",
    "ucb_uplink_messages['y'] = y"
   ]
  },
  {
   "cell_type": "markdown",
   "metadata": {},
   "source": [
    "Now, we draw a path for each end node based on the received coordinates."
   ]
  },
  {
   "cell_type": "code",
   "execution_count": 23,
   "metadata": {},
   "outputs": [
    {
     "name": "stderr",
     "output_type": "stream",
     "text": [
      "/tmp/ipykernel_15715/2324166417.py:3: MatplotlibDeprecationWarning: The get_cmap function was deprecated in Matplotlib 3.7 and will be removed two minor releases later. Use ``matplotlib.colormaps[name]`` or ``matplotlib.colormaps.get_cmap(obj)`` instead.\n",
      "  ts_cmap = mpl.cm.get_cmap('RdPu')\n",
      "/tmp/ipykernel_15715/2324166417.py:4: MatplotlibDeprecationWarning: The get_cmap function was deprecated in Matplotlib 3.7 and will be removed two minor releases later. Use ``matplotlib.colormaps[name]`` or ``matplotlib.colormaps.get_cmap(obj)`` instead.\n",
      "  ucb_cmap = mpl.cm.get_cmap('PuBu')\n"
     ]
    },
    {
     "ename": "AttributeError",
     "evalue": "'DataFrame' object has no attribute 'x'",
     "output_type": "error",
     "traceback": [
      "\u001b[0;31m---------------------------------------------------------------------------\u001b[0m",
      "\u001b[0;31mAttributeError\u001b[0m                            Traceback (most recent call last)",
      "\u001b[0;32m/tmp/ipykernel_15715/2324166417.py\u001b[0m in \u001b[0;36m?\u001b[0;34m()\u001b[0m\n\u001b[1;32m      8\u001b[0m \u001b[0mfig\u001b[0m\u001b[0;34m,\u001b[0m \u001b[0maxis\u001b[0m \u001b[0;34m=\u001b[0m \u001b[0mplt\u001b[0m\u001b[0;34m.\u001b[0m\u001b[0msubplots\u001b[0m\u001b[0;34m(\u001b[0m\u001b[0mnrows\u001b[0m\u001b[0;34m=\u001b[0m\u001b[0;36m1\u001b[0m\u001b[0;34m,\u001b[0m \u001b[0mncols\u001b[0m\u001b[0;34m=\u001b[0m\u001b[0;36m2\u001b[0m\u001b[0;34m,\u001b[0m \u001b[0mfigsize\u001b[0m\u001b[0;34m=\u001b[0m\u001b[0;34m(\u001b[0m\u001b[0;36m10\u001b[0m\u001b[0;34m,\u001b[0m\u001b[0;36m5\u001b[0m\u001b[0;34m)\u001b[0m\u001b[0;34m)\u001b[0m\u001b[0;34m\u001b[0m\u001b[0;34m\u001b[0m\u001b[0m\n\u001b[1;32m      9\u001b[0m \u001b[0;34m\u001b[0m\u001b[0m\n\u001b[1;32m     10\u001b[0m \u001b[0;32mfor\u001b[0m \u001b[0mi\u001b[0m \u001b[0;32min\u001b[0m \u001b[0mrange\u001b[0m\u001b[0;34m(\u001b[0m\u001b[0;36m0\u001b[0m\u001b[0;34m,\u001b[0m \u001b[0mts_unique_ens\u001b[0m\u001b[0;34m)\u001b[0m\u001b[0;34m:\u001b[0m\u001b[0;34m\u001b[0m\u001b[0;34m\u001b[0m\u001b[0m\n\u001b[1;32m     11\u001b[0m     \u001b[0mts_data\u001b[0m \u001b[0;34m=\u001b[0m \u001b[0mts_uplink_messages\u001b[0m\u001b[0;34m[\u001b[0m\u001b[0mts_uplink_messages\u001b[0m\u001b[0;34m.\u001b[0m\u001b[0mnode_id\u001b[0m \u001b[0;34m==\u001b[0m \u001b[0mts_uplink_messages\u001b[0m\u001b[0;34m.\u001b[0m\u001b[0mnode_id\u001b[0m\u001b[0;34m[\u001b[0m\u001b[0mi\u001b[0m\u001b[0;34m]\u001b[0m\u001b[0;34m]\u001b[0m\u001b[0;34m\u001b[0m\u001b[0;34m\u001b[0m\u001b[0m\n\u001b[0;32m---> 12\u001b[0;31m     \u001b[0maxis\u001b[0m\u001b[0;34m[\u001b[0m\u001b[0;36m0\u001b[0m\u001b[0;34m]\u001b[0m\u001b[0;34m.\u001b[0m\u001b[0mplot\u001b[0m\u001b[0;34m(\u001b[0m\u001b[0mts_data\u001b[0m\u001b[0;34m.\u001b[0m\u001b[0mx\u001b[0m\u001b[0;34m,\u001b[0m \u001b[0mts_data\u001b[0m\u001b[0;34m.\u001b[0m\u001b[0my\u001b[0m\u001b[0;34m,\u001b[0m \u001b[0mcolor\u001b[0m\u001b[0;34m=\u001b[0m\u001b[0mts_cmap\u001b[0m\u001b[0;34m(\u001b[0m\u001b[0mi\u001b[0m \u001b[0;34m/\u001b[0m \u001b[0mts_unique_ens\u001b[0m\u001b[0;34m)\u001b[0m\u001b[0;34m)\u001b[0m\u001b[0;34m\u001b[0m\u001b[0;34m\u001b[0m\u001b[0m\n\u001b[0m\u001b[1;32m     13\u001b[0m \u001b[0;34m\u001b[0m\u001b[0m\n\u001b[1;32m     14\u001b[0m \u001b[0;32mfor\u001b[0m \u001b[0mi\u001b[0m \u001b[0;32min\u001b[0m \u001b[0mrange\u001b[0m\u001b[0;34m(\u001b[0m\u001b[0;36m0\u001b[0m\u001b[0;34m,\u001b[0m \u001b[0mucb_unique_ens\u001b[0m\u001b[0;34m)\u001b[0m\u001b[0;34m:\u001b[0m\u001b[0;34m\u001b[0m\u001b[0;34m\u001b[0m\u001b[0m\n\u001b[1;32m     15\u001b[0m     \u001b[0mucb_data\u001b[0m \u001b[0;34m=\u001b[0m \u001b[0mucb_uplink_messages\u001b[0m\u001b[0;34m[\u001b[0m\u001b[0mucb_uplink_messages\u001b[0m\u001b[0;34m.\u001b[0m\u001b[0mnode_id\u001b[0m \u001b[0;34m==\u001b[0m \u001b[0mucb_uplink_messages\u001b[0m\u001b[0;34m.\u001b[0m\u001b[0mnode_id\u001b[0m\u001b[0;34m[\u001b[0m\u001b[0mi\u001b[0m\u001b[0;34m]\u001b[0m\u001b[0;34m]\u001b[0m\u001b[0;34m\u001b[0m\u001b[0;34m\u001b[0m\u001b[0m\n",
      "\u001b[0;32m/opt/jupyter/jupyter-env/jupyter-env/lib/python3.10/site-packages/pandas/core/generic.py\u001b[0m in \u001b[0;36m?\u001b[0;34m(self, name)\u001b[0m\n\u001b[1;32m   5985\u001b[0m             \u001b[0;32mand\u001b[0m \u001b[0mname\u001b[0m \u001b[0;32mnot\u001b[0m \u001b[0;32min\u001b[0m \u001b[0mself\u001b[0m\u001b[0;34m.\u001b[0m\u001b[0m_accessors\u001b[0m\u001b[0;34m\u001b[0m\u001b[0;34m\u001b[0m\u001b[0m\n\u001b[1;32m   5986\u001b[0m             \u001b[0;32mand\u001b[0m \u001b[0mself\u001b[0m\u001b[0;34m.\u001b[0m\u001b[0m_info_axis\u001b[0m\u001b[0;34m.\u001b[0m\u001b[0m_can_hold_identifiers_and_holds_name\u001b[0m\u001b[0;34m(\u001b[0m\u001b[0mname\u001b[0m\u001b[0;34m)\u001b[0m\u001b[0;34m\u001b[0m\u001b[0;34m\u001b[0m\u001b[0m\n\u001b[1;32m   5987\u001b[0m         ):\n\u001b[1;32m   5988\u001b[0m             \u001b[0;32mreturn\u001b[0m \u001b[0mself\u001b[0m\u001b[0;34m[\u001b[0m\u001b[0mname\u001b[0m\u001b[0;34m]\u001b[0m\u001b[0;34m\u001b[0m\u001b[0;34m\u001b[0m\u001b[0m\n\u001b[0;32m-> 5989\u001b[0;31m         \u001b[0;32mreturn\u001b[0m \u001b[0mobject\u001b[0m\u001b[0;34m.\u001b[0m\u001b[0m__getattribute__\u001b[0m\u001b[0;34m(\u001b[0m\u001b[0mself\u001b[0m\u001b[0;34m,\u001b[0m \u001b[0mname\u001b[0m\u001b[0;34m)\u001b[0m\u001b[0;34m\u001b[0m\u001b[0;34m\u001b[0m\u001b[0m\n\u001b[0m",
      "\u001b[0;31mAttributeError\u001b[0m: 'DataFrame' object has no attribute 'x'"
     ]
    },
    {
     "data": {
      "image/png": "[encoded data removed]",
      "text/plain": [
       "<Figure size 1000x500 with 2 Axes>"
      ]
     },
     "metadata": {},
     "output_type": "display_data"
    }
   ],
   "source": [
    "ts_unique_ens = len(ts_uplink_messages.node_id.unique())\n",
    "ucb_unique_ens = len(ucb_uplink_messages.node_id.unique())\n",
    "ts_cmap = mpl.cm.get_cmap('RdPu')\n",
    "ucb_cmap = mpl.cm.get_cmap('PuBu')\n",
    "xlim = 10\n",
    "ylim = 10\n",
    "\n",
    "fig, axis = plt.subplots(nrows=1, ncols=2, figsize=(10,5))\n",
    "\n",
    "for i in range(0, ts_unique_ens):\n",
    "    ts_data = ts_uplink_messages[ts_uplink_messages.node_id == ts_uplink_messages.node_id[i]]\n",
    "    axis[0].plot(ts_data.x, ts_data.y, color=ts_cmap(i / ts_unique_ens))\n",
    "    \n",
    "for i in range(0, ucb_unique_ens):\n",
    "    ucb_data = ucb_uplink_messages[ucb_uplink_messages.node_id == ucb_uplink_messages.node_id[i]]\n",
    "    axis[1].plot(ucb_data.x, ucb_data.y, color=ucb_cmap(i / ucb_unique_ens))\n",
    "    \n",
    "# Add Access Point\n",
    "axis[0].plot(xlim / 2, ylim / 2, '+', mew=10, ms=2, color='black')\n",
    "axis[1].plot(xlim / 2, ylim / 2, '+', mew=10, ms=2, color='black')\n",
    "# ax.plot(xlim / 2 + 5, ylim / 2 - 5, 'X', mew=10, ms=2, color='black')\n",
    "\n",
    "for i in range(2):\n",
    "    axis[i].set_xlim([0,xlim])\n",
    "    axis[i].set_ylim([0,ylim])\n",
    "    axis[i].spines['top'].set_visible(False)\n",
    "    axis[i].spines['right'].set_color('#dddddd')\n",
    "    axis[i].spines['left'].set_visible(False)\n",
    "    axis[i].spines['bottom'].set_color('#dddddd')\n",
    "    axis[i].tick_params(bottom=False, left=False)\n",
    "    axis[i].set_axisbelow(True)\n",
    "    axis[i].yaxis.grid(True, color='#eeeeee')\n",
    "    axis[i].xaxis.grid(True, color='#eeeeee')\n",
    "    axis[i].set_xlabel('X [km]', labelpad=15)\n",
    "    axis[i].set_ylabel('Y [km]', labelpad=15)\n",
    "\n",
    "axis[0].set_title('Paths of TS Nodes', pad=15)\n",
    "axis[1].set_title('Paths of UCB Nodes', pad=15)\n",
    "\n",
    "fig.tight_layout()\n",
    "\n",
    "fig.savefig(f'ts-ucb-paths.{output_format}', dpi=300)"
   ]
  },
  {
   "cell_type": "markdown",
   "metadata": {},
   "source": [
    "The End."
   ]
  }
 ],
 "metadata": {
  "kernelspec": {
   "display_name": "Python 3 (ipykernel)",
   "language": "python",
   "name": "python3"
  },
  "language_info": {
   "codemirror_mode": {
    "name": "ipython",
    "version": 3
   },
   "file_extension": ".py",
   "mimetype": "text/x-python",
   "name": "python",
   "nbconvert_exporter": "python",
   "pygments_lexer": "ipython3",
   "version": "3.10.12"
  }
 },
 "nbformat": 4,
 "nbformat_minor": 4
}
