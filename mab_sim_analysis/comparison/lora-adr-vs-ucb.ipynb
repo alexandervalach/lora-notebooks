{
 "cells": [
  {
   "cell_type": "markdown",
   "metadata": {},
   "source": [
    "# LoRa Data Analysis - ADR vs. UCB\n"
   ]
  },
  {
   "cell_type": "markdown",
   "metadata": {},
   "source": [
    "We first declare a fixed parameters.\n",
    "\n",
    "Those parameters are not changed during the experiments.\n",
    "\n",
    "Fixed communication parameters are listed below:\n",
    "- Code Rate: 4/5\n",
    "- Frequency: 866.1 MHz\n",
    "- Bandwidth: 125 kHz\n",
    "\n",
    "End nodes:\n",
    "- were sending different types of uplink messages.\n",
    "- were sending a single message each 2 minutes.\n",
    "- used an upper confidence bound algorithm (UCB) for communication parameters selection.\n",
    "\n",
    "Access points:\n",
    "- only a single access point was used\n",
    "- capture effect was also considered"
   ]
  },
  {
   "cell_type": "markdown",
   "metadata": {},
   "source": [
    "Initial declaration"
   ]
  },
  {
   "cell_type": "code",
   "execution_count": 1,
   "metadata": {},
   "outputs": [],
   "source": [
    "%matplotlib inline\n",
    "import pandas as pd # import pandas\n",
    "import numpy as np # import numpy\n",
    "import matplotlib as mpl # import matplotlib\n",
    "import matplotlib.pyplot as plt # import plotting module\n",
    "import matplotlib_inline as mpl_inl # import matplotlib_inline\n",
    "import statistics\n",
    "import math\n",
    "import base64\n",
    "from IPython.display import set_matplotlib_formats # module for svg export\n",
    "\n",
    "# Set output format for png figures\n",
    "output_format = 'png'\n",
    "mpl_inl.backend_inline.set_matplotlib_formats(output_format) # set export to svg file\n",
    "\n",
    "adr_uplink_file = 'adr_uplink_messages.csv'\n",
    "ucb_uplink_file = 'ucb_uplink_messages.csv'"
   ]
  },
  {
   "cell_type": "markdown",
   "metadata": {},
   "source": [
    "## Analysis of Uplink Messages"
   ]
  },
  {
   "cell_type": "markdown",
   "metadata": {},
   "source": [
    "We read a csv file with uplink messages"
   ]
  },
  {
   "cell_type": "code",
   "execution_count": 2,
   "metadata": {},
   "outputs": [],
   "source": [
    "adr_uplink_messages = pd.read_csv(adr_uplink_file, delimiter=',')\n",
    "ucb_uplink_messages = pd.read_csv(ucb_uplink_file, delimiter=',')"
   ]
  },
  {
   "cell_type": "markdown",
   "metadata": {},
   "source": [
    "Let us have a look at various columns that are present and can be evaluated."
   ]
  },
  {
   "cell_type": "code",
   "execution_count": 3,
   "metadata": {
    "scrolled": true
   },
   "outputs": [
    {
     "data": {
      "text/html": [
       "<div>\n",
       "<style scoped>\n",
       "    .dataframe tbody tr th:only-of-type {\n",
       "        vertical-align: middle;\n",
       "    }\n",
       "\n",
       "    .dataframe tbody tr th {\n",
       "        vertical-align: top;\n",
       "    }\n",
       "\n",
       "    .dataframe thead th {\n",
       "        text-align: right;\n",
       "    }\n",
       "</style>\n",
       "<table border=\"1\" class=\"dataframe\">\n",
       "  <thead>\n",
       "    <tr style=\"text-align: right;\">\n",
       "      <th></th>\n",
       "      <th>id</th>\n",
       "      <th>app_data</th>\n",
       "      <th>snr</th>\n",
       "      <th>rssi</th>\n",
       "      <th>duty_cycle_remaining</th>\n",
       "      <th>is_primary</th>\n",
       "      <th>receive_time</th>\n",
       "      <th>seq</th>\n",
       "      <th>frequency</th>\n",
       "      <th>spf</th>\n",
       "      <th>power</th>\n",
       "      <th>airtime</th>\n",
       "      <th>coderate</th>\n",
       "      <th>bandwidth</th>\n",
       "      <th>msg_group_number</th>\n",
       "      <th>message_type_id</th>\n",
       "      <th>ap_id</th>\n",
       "      <th>node_id</th>\n",
       "    </tr>\n",
       "  </thead>\n",
       "  <tbody>\n",
       "    <tr>\n",
       "      <th>0</th>\n",
       "      <td>116216</td>\n",
       "      <td>Njk5OS4yLDYwMDEuNw==</td>\n",
       "      <td>2.9</td>\n",
       "      <td>-84.4</td>\n",
       "      <td>36000</td>\n",
       "      <td>t</td>\n",
       "      <td>2021-04-11 16:38:27.186</td>\n",
       "      <td>1</td>\n",
       "      <td>866100000</td>\n",
       "      <td>7</td>\n",
       "      <td>13</td>\n",
       "      <td>58</td>\n",
       "      <td>4/5</td>\n",
       "      <td>125000</td>\n",
       "      <td>315</td>\n",
       "      <td>1</td>\n",
       "      <td>111111</td>\n",
       "      <td>PHDA</td>\n",
       "    </tr>\n",
       "    <tr>\n",
       "      <th>1</th>\n",
       "      <td>116217</td>\n",
       "      <td>NjM0OC4wLDQ2NTIuMQ==</td>\n",
       "      <td>7.6</td>\n",
       "      <td>-72.8</td>\n",
       "      <td>36000</td>\n",
       "      <td>t</td>\n",
       "      <td>2021-04-11 16:38:31.707</td>\n",
       "      <td>1</td>\n",
       "      <td>866900000</td>\n",
       "      <td>12</td>\n",
       "      <td>15</td>\n",
       "      <td>1294</td>\n",
       "      <td>4/5</td>\n",
       "      <td>125000</td>\n",
       "      <td>221</td>\n",
       "      <td>2</td>\n",
       "      <td>111111</td>\n",
       "      <td>NBiG</td>\n",
       "    </tr>\n",
       "    <tr>\n",
       "      <th>2</th>\n",
       "      <td>116218</td>\n",
       "      <td>Mjg4MC40LDMxNjMuOQ==</td>\n",
       "      <td>-12.4</td>\n",
       "      <td>-88.8</td>\n",
       "      <td>36000</td>\n",
       "      <td>t</td>\n",
       "      <td>2021-04-11 16:38:37.242</td>\n",
       "      <td>1</td>\n",
       "      <td>866100000</td>\n",
       "      <td>7</td>\n",
       "      <td>13</td>\n",
       "      <td>58</td>\n",
       "      <td>4/5</td>\n",
       "      <td>125000</td>\n",
       "      <td>176</td>\n",
       "      <td>1</td>\n",
       "      <td>111111</td>\n",
       "      <td>8XwI</td>\n",
       "    </tr>\n",
       "    <tr>\n",
       "      <th>3</th>\n",
       "      <td>116219</td>\n",
       "      <td>NDgyOC44LDI1NzAuOQ==</td>\n",
       "      <td>-11.0</td>\n",
       "      <td>-86.1</td>\n",
       "      <td>36000</td>\n",
       "      <td>t</td>\n",
       "      <td>2021-04-11 16:38:42.26</td>\n",
       "      <td>1</td>\n",
       "      <td>866100000</td>\n",
       "      <td>7</td>\n",
       "      <td>13</td>\n",
       "      <td>58</td>\n",
       "      <td>4/5</td>\n",
       "      <td>125000</td>\n",
       "      <td>280</td>\n",
       "      <td>1</td>\n",
       "      <td>111111</td>\n",
       "      <td>vmmR</td>\n",
       "    </tr>\n",
       "    <tr>\n",
       "      <th>4</th>\n",
       "      <td>116220</td>\n",
       "      <td>MjI1NS43LDMwOTIuMQ==</td>\n",
       "      <td>-12.2</td>\n",
       "      <td>-92.4</td>\n",
       "      <td>36000</td>\n",
       "      <td>t</td>\n",
       "      <td>2021-04-11 16:38:47.26</td>\n",
       "      <td>1</td>\n",
       "      <td>866100000</td>\n",
       "      <td>7</td>\n",
       "      <td>13</td>\n",
       "      <td>58</td>\n",
       "      <td>4/5</td>\n",
       "      <td>125000</td>\n",
       "      <td>191</td>\n",
       "      <td>1</td>\n",
       "      <td>111111</td>\n",
       "      <td>DY9f</td>\n",
       "    </tr>\n",
       "  </tbody>\n",
       "</table>\n",
       "</div>"
      ],
      "text/plain": [
       "       id              app_data   snr  rssi  duty_cycle_remaining is_primary  \\\n",
       "0  116216  Njk5OS4yLDYwMDEuNw==   2.9 -84.4                 36000          t   \n",
       "1  116217  NjM0OC4wLDQ2NTIuMQ==   7.6 -72.8                 36000          t   \n",
       "2  116218  Mjg4MC40LDMxNjMuOQ== -12.4 -88.8                 36000          t   \n",
       "3  116219  NDgyOC44LDI1NzAuOQ== -11.0 -86.1                 36000          t   \n",
       "4  116220  MjI1NS43LDMwOTIuMQ== -12.2 -92.4                 36000          t   \n",
       "\n",
       "              receive_time  seq  frequency  spf  power  airtime coderate  \\\n",
       "0  2021-04-11 16:38:27.186    1  866100000    7     13       58      4/5   \n",
       "1  2021-04-11 16:38:31.707    1  866900000   12     15     1294      4/5   \n",
       "2  2021-04-11 16:38:37.242    1  866100000    7     13       58      4/5   \n",
       "3   2021-04-11 16:38:42.26    1  866100000    7     13       58      4/5   \n",
       "4   2021-04-11 16:38:47.26    1  866100000    7     13       58      4/5   \n",
       "\n",
       "   bandwidth  msg_group_number  message_type_id   ap_id node_id  \n",
       "0     125000               315                1  111111    PHDA  \n",
       "1     125000               221                2  111111    NBiG  \n",
       "2     125000               176                1  111111    8XwI  \n",
       "3     125000               280                1  111111    vmmR  \n",
       "4     125000               191                1  111111    DY9f  "
      ]
     },
     "execution_count": 3,
     "metadata": {},
     "output_type": "execute_result"
    }
   ],
   "source": [
    "adr_uplink_messages.head()"
   ]
  },
  {
   "cell_type": "code",
   "execution_count": 4,
   "metadata": {},
   "outputs": [
    {
     "data": {
      "text/html": [
       "<div>\n",
       "<style scoped>\n",
       "    .dataframe tbody tr th:only-of-type {\n",
       "        vertical-align: middle;\n",
       "    }\n",
       "\n",
       "    .dataframe tbody tr th {\n",
       "        vertical-align: top;\n",
       "    }\n",
       "\n",
       "    .dataframe thead th {\n",
       "        text-align: right;\n",
       "    }\n",
       "</style>\n",
       "<table border=\"1\" class=\"dataframe\">\n",
       "  <thead>\n",
       "    <tr style=\"text-align: right;\">\n",
       "      <th></th>\n",
       "      <th>id</th>\n",
       "      <th>app_data</th>\n",
       "      <th>snr</th>\n",
       "      <th>rssi</th>\n",
       "      <th>duty_cycle_remaining</th>\n",
       "      <th>is_primary</th>\n",
       "      <th>receive_time</th>\n",
       "      <th>seq</th>\n",
       "      <th>frequency</th>\n",
       "      <th>spf</th>\n",
       "      <th>power</th>\n",
       "      <th>airtime</th>\n",
       "      <th>coderate</th>\n",
       "      <th>bandwidth</th>\n",
       "      <th>msg_group_number</th>\n",
       "      <th>message_type_id</th>\n",
       "      <th>ap_id</th>\n",
       "      <th>node_id</th>\n",
       "    </tr>\n",
       "  </thead>\n",
       "  <tbody>\n",
       "    <tr>\n",
       "      <th>0</th>\n",
       "      <td>102854</td>\n",
       "      <td>NzA3Ni44LDEzNTkuMQ==</td>\n",
       "      <td>2.5</td>\n",
       "      <td>-99.9</td>\n",
       "      <td>36000</td>\n",
       "      <td>t</td>\n",
       "      <td>2021-04-10 09:40:22.512</td>\n",
       "      <td>1</td>\n",
       "      <td>866100000</td>\n",
       "      <td>7</td>\n",
       "      <td>10</td>\n",
       "      <td>58</td>\n",
       "      <td>4/5</td>\n",
       "      <td>125000</td>\n",
       "      <td>124</td>\n",
       "      <td>1</td>\n",
       "      <td>111111</td>\n",
       "      <td>t3w0</td>\n",
       "    </tr>\n",
       "    <tr>\n",
       "      <th>1</th>\n",
       "      <td>102855</td>\n",
       "      <td>NTc4My4zLDQ5MDkuNw==</td>\n",
       "      <td>-17.4</td>\n",
       "      <td>-66.5</td>\n",
       "      <td>36000</td>\n",
       "      <td>t</td>\n",
       "      <td>2021-04-10 09:40:27.567</td>\n",
       "      <td>1</td>\n",
       "      <td>866100000</td>\n",
       "      <td>7</td>\n",
       "      <td>10</td>\n",
       "      <td>58</td>\n",
       "      <td>4/5</td>\n",
       "      <td>125000</td>\n",
       "      <td>111</td>\n",
       "      <td>2</td>\n",
       "      <td>111111</td>\n",
       "      <td>j6eI</td>\n",
       "    </tr>\n",
       "    <tr>\n",
       "      <th>2</th>\n",
       "      <td>102856</td>\n",
       "      <td>NzU4LjgsNjEzNS43</td>\n",
       "      <td>-12.6</td>\n",
       "      <td>-100.8</td>\n",
       "      <td>36000</td>\n",
       "      <td>t</td>\n",
       "      <td>2021-04-10 09:40:32.565</td>\n",
       "      <td>1</td>\n",
       "      <td>866100000</td>\n",
       "      <td>7</td>\n",
       "      <td>10</td>\n",
       "      <td>52</td>\n",
       "      <td>4/5</td>\n",
       "      <td>125000</td>\n",
       "      <td>155</td>\n",
       "      <td>2</td>\n",
       "      <td>111111</td>\n",
       "      <td>Qihc</td>\n",
       "    </tr>\n",
       "    <tr>\n",
       "      <th>3</th>\n",
       "      <td>102857</td>\n",
       "      <td>Njc2NC45LDMwNjAuMg==</td>\n",
       "      <td>-12.6</td>\n",
       "      <td>-90.5</td>\n",
       "      <td>36000</td>\n",
       "      <td>t</td>\n",
       "      <td>2021-04-10 09:40:38.065</td>\n",
       "      <td>1</td>\n",
       "      <td>866100000</td>\n",
       "      <td>7</td>\n",
       "      <td>10</td>\n",
       "      <td>58</td>\n",
       "      <td>4/5</td>\n",
       "      <td>125000</td>\n",
       "      <td>193</td>\n",
       "      <td>1</td>\n",
       "      <td>111111</td>\n",
       "      <td>iOK8</td>\n",
       "    </tr>\n",
       "    <tr>\n",
       "      <th>4</th>\n",
       "      <td>102858</td>\n",
       "      <td>OTExMy4xLDI4OTAuOA==</td>\n",
       "      <td>-17.6</td>\n",
       "      <td>-101.9</td>\n",
       "      <td>36000</td>\n",
       "      <td>t</td>\n",
       "      <td>2021-04-10 09:40:43.606</td>\n",
       "      <td>1</td>\n",
       "      <td>866100000</td>\n",
       "      <td>7</td>\n",
       "      <td>10</td>\n",
       "      <td>58</td>\n",
       "      <td>4/5</td>\n",
       "      <td>125000</td>\n",
       "      <td>252</td>\n",
       "      <td>1</td>\n",
       "      <td>111111</td>\n",
       "      <td>96VU</td>\n",
       "    </tr>\n",
       "  </tbody>\n",
       "</table>\n",
       "</div>"
      ],
      "text/plain": [
       "       id              app_data   snr   rssi  duty_cycle_remaining is_primary  \\\n",
       "0  102854  NzA3Ni44LDEzNTkuMQ==   2.5  -99.9                 36000          t   \n",
       "1  102855  NTc4My4zLDQ5MDkuNw== -17.4  -66.5                 36000          t   \n",
       "2  102856      NzU4LjgsNjEzNS43 -12.6 -100.8                 36000          t   \n",
       "3  102857  Njc2NC45LDMwNjAuMg== -12.6  -90.5                 36000          t   \n",
       "4  102858  OTExMy4xLDI4OTAuOA== -17.6 -101.9                 36000          t   \n",
       "\n",
       "              receive_time  seq  frequency  spf  power  airtime coderate  \\\n",
       "0  2021-04-10 09:40:22.512    1  866100000    7     10       58      4/5   \n",
       "1  2021-04-10 09:40:27.567    1  866100000    7     10       58      4/5   \n",
       "2  2021-04-10 09:40:32.565    1  866100000    7     10       52      4/5   \n",
       "3  2021-04-10 09:40:38.065    1  866100000    7     10       58      4/5   \n",
       "4  2021-04-10 09:40:43.606    1  866100000    7     10       58      4/5   \n",
       "\n",
       "   bandwidth  msg_group_number  message_type_id   ap_id node_id  \n",
       "0     125000               124                1  111111    t3w0  \n",
       "1     125000               111                2  111111    j6eI  \n",
       "2     125000               155                2  111111    Qihc  \n",
       "3     125000               193                1  111111    iOK8  \n",
       "4     125000               252                1  111111    96VU  "
      ]
     },
     "execution_count": 4,
     "metadata": {},
     "output_type": "execute_result"
    }
   ],
   "source": [
    "ucb_uplink_messages.head()"
   ]
  },
  {
   "cell_type": "markdown",
   "metadata": {},
   "source": [
    "Remove all columns that have fixed values or there is no point in their analysis."
   ]
  },
  {
   "cell_type": "code",
   "execution_count": 5,
   "metadata": {},
   "outputs": [],
   "source": [
    "try:\n",
    "    del adr_uplink_messages['id']\n",
    "    del adr_uplink_messages['msg_group_number']\n",
    "    del adr_uplink_messages['is_primary']\n",
    "    del adr_uplink_messages['coderate']\n",
    "    del adr_uplink_messages['bandwidth']\n",
    "    del adr_uplink_messages['receive_time']\n",
    "except KeyError:\n",
    "    print('Columns have already been removed')"
   ]
  },
  {
   "cell_type": "code",
   "execution_count": 6,
   "metadata": {},
   "outputs": [],
   "source": [
    "try:\n",
    "    del ucb_uplink_messages['id']\n",
    "    del ucb_uplink_messages['msg_group_number']\n",
    "    del ucb_uplink_messages['is_primary']\n",
    "    del ucb_uplink_messages['coderate']\n",
    "    del ucb_uplink_messages['bandwidth']\n",
    "    del ucb_uplink_messages['receive_time']\n",
    "except KeyError:\n",
    "    print('Columns have already been removed')"
   ]
  },
  {
   "cell_type": "markdown",
   "metadata": {},
   "source": [
    "### Payload Length"
   ]
  },
  {
   "cell_type": "code",
   "execution_count": 7,
   "metadata": {
    "scrolled": true
   },
   "outputs": [],
   "source": [
    "adr_uplink_messages['payload_len'] = adr_uplink_messages.app_data.apply(len)\n",
    "ucb_uplink_messages['payload_len'] = ucb_uplink_messages.app_data.apply(len)"
   ]
  },
  {
   "cell_type": "code",
   "execution_count": 8,
   "metadata": {},
   "outputs": [
    {
     "name": "stdout",
     "output_type": "stream",
     "text": [
      "Mean value of payload length for ADR is 47 B\n",
      "Mean value of payload length for UCB is 43 B\n"
     ]
    }
   ],
   "source": [
    "adr_payload_len = round(statistics.mean(adr_uplink_messages.payload_len))\n",
    "ucb_payload_len = round(statistics.mean(ucb_uplink_messages.payload_len))\n",
    "\n",
    "print(f'Mean value of payload length for ADR is {adr_payload_len} B')\n",
    "print(f'Mean value of payload length for UCB is {ucb_payload_len} B')"
   ]
  },
  {
   "cell_type": "markdown",
   "metadata": {},
   "source": [
    "### Spreading Factor"
   ]
  },
  {
   "cell_type": "code",
   "execution_count": 9,
   "metadata": {},
   "outputs": [],
   "source": [
    "sf1 = adr_uplink_messages.spf.value_counts()\n",
    "sf2 = ucb_uplink_messages.spf.value_counts()\n",
    "\n",
    "diff = abs(sf1 - sf2)\n",
    "diff.fillna(0)\n",
    "sf_adr = [sf1, diff]\n",
    "sf_adr = pd.concat(sf_adr, axis=1, sort=False).sum(axis=1)\n",
    "sf_adr.sort_index(ascending=False, inplace=True)\n",
    "\n",
    "diff = abs(sf2 - sf1)\n",
    "diff.fillna(0)\n",
    "sf_ucb = [sf2, diff]\n",
    "sf_ucb = pd.concat(sf_ucb, axis=1, sort=False).sum(axis=1)\n",
    "sf_ucb.sort_index(ascending=False, inplace=True)"
   ]
  },
  {
   "cell_type": "code",
   "execution_count": 10,
   "metadata": {
    "scrolled": true
   },
   "outputs": [
    {
     "data": {
      "image/png": "[encoded data removed]",
      "text/plain": [
       "<Figure size 1000x400 with 1 Axes>"
      ]
     },
     "metadata": {},
     "output_type": "display_data"
    }
   ],
   "source": [
    "# Create a grouped bar chart, with job as the x-axis\n",
    "# and gender as the variable we're grouping on so there\n",
    "# are two bars per job.\n",
    "fig, ax = plt.subplots(figsize=(10, 4))\n",
    "\n",
    "# Define bar width. We need this to offset the second bar.\n",
    "bar_width = 0.3\n",
    "index = np.arange(len(sf_adr))\n",
    "\n",
    "ax.bar(index, sf_adr, width=bar_width, color='green', label = 'ADR')\n",
    "# Same thing, but offset the x.\n",
    "ax.bar(index + bar_width, sf_ucb, width=bar_width, color='blue', label = 'UCB')\n",
    "\n",
    "# Fix the x-axes.\n",
    "ax.set_xticks(index + bar_width / 2)\n",
    "ax.set_xticklabels(sf_ucb.index)\n",
    "\n",
    "# Add legend.\n",
    "ax.legend()\n",
    "\n",
    "# Axis styling.\n",
    "ax.spines['top'].set_visible(False)\n",
    "ax.spines['right'].set_visible(False)\n",
    "ax.spines['left'].set_visible(False)\n",
    "ax.spines['bottom'].set_color('#DDDDDD')\n",
    "ax.tick_params(bottom=False, left=False)\n",
    "ax.set_axisbelow(True)\n",
    "ax.yaxis.grid(True, color='#EEEEEE')\n",
    "ax.xaxis.grid(False)\n",
    "\n",
    "# Add axis and chart labels.\n",
    "ax.set_xlabel('Spreading Factor', labelpad=15)\n",
    "ax.set_ylabel('Number of Messages', labelpad=15)\n",
    "ax.set_title('Utilization of Spreading Factor', pad=15)\n",
    "\n",
    "fig.tight_layout()\n",
    "\n",
    "# For each bar in the chart, add a text label.\n",
    "for bar in ax.patches:\n",
    "  # The text annotation for each bar should be its height.\n",
    "  bar_value = round(bar.get_height())\n",
    "  # Format the text with commas to separate thousands. You can do\n",
    "  # any type of formatting here though.\n",
    "  text = f'{bar_value:,}'\n",
    "  # This will give the middle of each bar on the x-axis.\n",
    "  text_x = bar.get_x() + bar.get_width() / 2\n",
    "  # get_y() is where the bar starts so we add the height to it.\n",
    "  text_y = bar.get_y() + bar_value\n",
    "  # If we want the text to be the same color as the bar, we can\n",
    "  # get the color like so:\n",
    "  bar_color = bar.get_facecolor()\n",
    "  # If you want a consistent color, you can just set it as a constant, e.g. #222222\n",
    "  ax.text(text_x, text_y, text, ha='center', va='bottom', color=bar_color, size=10)\n",
    "    \n",
    "fig.savefig(f'adr-ucb-sf.{output_format}', dpi=300)"
   ]
  },
  {
   "cell_type": "markdown",
   "metadata": {},
   "source": [
    "All nodes used the same frequency to increase a probability of collisions."
   ]
  },
  {
   "cell_type": "markdown",
   "metadata": {},
   "source": [
    "We have only a single Access Point."
   ]
  },
  {
   "cell_type": "markdown",
   "metadata": {},
   "source": [
    "## Analysis of End Nodes"
   ]
  },
  {
   "cell_type": "markdown",
   "metadata": {},
   "source": [
    "Analysis of certain aspects (active time, sleep time and collisions) of end devices."
   ]
  },
  {
   "cell_type": "code",
   "execution_count": 11,
   "metadata": {},
   "outputs": [
    {
     "name": "stdout",
     "output_type": "stream",
     "text": [
      "Number of end nodes participating for ADR is 90.\n",
      "Number of end nodes participating for UCB is 88.\n"
     ]
    }
   ],
   "source": [
    "adr_unique_ens = adr_uplink_messages.node_id.nunique()\n",
    "ucb_unique_ens = ucb_uplink_messages.node_id.nunique()\n",
    "\n",
    "print(f'Number of end nodes participating for ADR is {adr_unique_ens}.')\n",
    "print(f'Number of end nodes participating for UCB is {ucb_unique_ens}.')"
   ]
  },
  {
   "cell_type": "code",
   "execution_count": 12,
   "metadata": {},
   "outputs": [],
   "source": [
    "adr_end_nodes = pd.read_csv(f'adr_end_nodes.csv', delimiter=',')\n",
    "ucb_end_nodes = pd.read_csv(f'ucb_end_nodes.csv', delimiter=',')"
   ]
  },
  {
   "cell_type": "markdown",
   "metadata": {},
   "source": [
    "### Collision Ratio"
   ]
  },
  {
   "cell_type": "code",
   "execution_count": 13,
   "metadata": {},
   "outputs": [
    {
     "name": "stdout",
     "output_type": "stream",
     "text": [
      "Max number of collisions for ADR: 258\n",
      "Min number of collisions for ADR: 151\n",
      "Max number of collisions for UCB: 22\n",
      "Min number of collisions for UCB: 0\n"
     ]
    }
   ],
   "source": [
    "adr_collisions = adr_end_nodes.collisions\n",
    "ucb_collisions = ucb_end_nodes.collisions\n",
    "\n",
    "adr_max_collisions = max(adr_end_nodes.collisions)\n",
    "adr_min_collisions = min(adr_end_nodes.collisions)\n",
    "ucb_max_collisions = max(ucb_end_nodes.collisions)\n",
    "ucb_min_collisions = min(ucb_end_nodes.collisions)\n",
    "\n",
    "max_collisions = max(adr_max_collisions, ucb_max_collisions)\n",
    "min_collisions = min(adr_min_collisions, ucb_min_collisions)\n",
    "range_collisions = max_collisions - min_collisions\n",
    "buckets = 8\n",
    "increment = range_collisions / buckets\n",
    "\n",
    "print(f'Max number of collisions for ADR: {adr_max_collisions}')\n",
    "print(f'Min number of collisions for ADR: {adr_min_collisions}')\n",
    "print(f'Max number of collisions for UCB: {ucb_max_collisions}')\n",
    "print(f'Min number of collisions for UCB: {ucb_min_collisions}')"
   ]
  },
  {
   "cell_type": "code",
   "execution_count": 14,
   "metadata": {},
   "outputs": [
    {
     "data": {
      "image/png": "[encoded data removed]",
      "text/plain": [
       "<Figure size 1000x400 with 1 Axes>"
      ]
     },
     "metadata": {},
     "output_type": "display_data"
    }
   ],
   "source": [
    "fig, ax = plt.subplots(figsize=(10, 4))\n",
    "\n",
    "bar_width = 0.4\n",
    "index = np.arange(buckets)\n",
    "\n",
    "bins = []\n",
    "\n",
    "for i in range(buckets + 1):\n",
    "    bins.append(round(min_collisions + i * increment))\n",
    "\n",
    "out_adr = pd.cut(adr_collisions, bins=bins)\n",
    "adr_values = out_adr.value_counts(sort=False).iloc[::-1]\n",
    "\n",
    "out_ucb = pd.cut(ucb_collisions, bins=bins)\n",
    "ucb_values = out_ucb.value_counts(sort=False).iloc[::-1]\n",
    "\n",
    "ax.bar(index, adr_values, width=bar_width, color='green', label='ADR')\n",
    "ax.bar(index + bar_width, ucb_values, width=bar_width, color='blue', label='UCB')\n",
    "\n",
    "ax.set_xticks(index + bar_width / 2)\n",
    "ax.set_xticklabels(adr_values.index, rotation=45)\n",
    "\n",
    "ax.legend()\n",
    "\n",
    "ax.spines['top'].set_visible(False)\n",
    "ax.spines['right'].set_visible(False)\n",
    "ax.spines['left'].set_visible(False)\n",
    "ax.spines['bottom'].set_color('#DDDDDD')\n",
    "ax.tick_params(bottom=False, left=False)\n",
    "ax.set_axisbelow(True)\n",
    "ax.yaxis.grid(True, color='#EEEEEE')\n",
    "ax.xaxis.grid(False)\n",
    "\n",
    "ax.set_xlabel('Number of Collisions', labelpad=15)\n",
    "ax.set_ylabel('Number of Devices', labelpad=15)\n",
    "ax.set_title('Collision Rate', pad=15)\n",
    "\n",
    "fig.tight_layout()\n",
    "\n",
    "for bar in ax.patches:\n",
    "  bar_value = round(bar.get_height())\n",
    "  text = f'{bar_value:,}'\n",
    "  text_x = bar.get_x() + bar.get_width() / 2\n",
    "  text_y = bar.get_y() + bar_value\n",
    "  bar_color = bar.get_facecolor()\n",
    "  ax.text(text_x, text_y, text, ha='center', va='bottom', color=bar_color, size=10)\n",
    "    \n",
    "fig.savefig(f'adr-ucb-collisions.{output_format}', dpi=300)"
   ]
  },
  {
   "cell_type": "code",
   "execution_count": 15,
   "metadata": {},
   "outputs": [
    {
     "name": "stdout",
     "output_type": "stream",
     "text": [
      "Mean collision number for ADR is 212\n",
      "Mean collision number for UCB is 4\n"
     ]
    }
   ],
   "source": [
    "print(f'Mean collision number for ADR is {round(statistics.mean(adr_collisions))}')\n",
    "print(f'Mean collision number for UCB is {round(statistics.mean(ucb_collisions))}')"
   ]
  },
  {
   "cell_type": "markdown",
   "metadata": {},
   "source": [
    "### Ration between active time and total nodes uptime"
   ]
  },
  {
   "cell_type": "code",
   "execution_count": 16,
   "metadata": {},
   "outputs": [
    {
     "name": "stdout",
     "output_type": "stream",
     "text": [
      "ADR nodes spent 23.15% of their uptime in active mode\n",
      "UCB nodes spent 2.5% of their uptime in active mode\n"
     ]
    }
   ],
   "source": [
    "adr_energy = (adr_end_nodes.active_time / adr_end_nodes.uptime)\n",
    "adr_active_time = round(statistics.mean(adr_energy) * 100, 2)\n",
    "ucb_energy = (ucb_end_nodes.active_time / ucb_end_nodes.uptime)\n",
    "ucb_active_time = round(statistics.mean(ucb_energy) * 100, 2)\n",
    "\n",
    "print(f'ADR nodes spent {adr_active_time}% of their uptime in active mode')\n",
    "print(f'UCB nodes spent {ucb_active_time}% of their uptime in active mode')"
   ]
  },
  {
   "cell_type": "markdown",
   "metadata": {},
   "source": [
    "### Packet Delivery Ratio (PDR)"
   ]
  },
  {
   "cell_type": "markdown",
   "metadata": {},
   "source": [
    "Evaluation of packet delivery ratio for end nodes."
   ]
  },
  {
   "cell_type": "markdown",
   "metadata": {},
   "source": [
    "Add message count from uplink data and collisions."
   ]
  },
  {
   "cell_type": "code",
   "execution_count": 17,
   "metadata": {},
   "outputs": [],
   "source": [
    "adr_data = adr_uplink_messages.node_id.value_counts()\n",
    "adr_nodes = pd.DataFrame({}, columns = ['dev_id', 'collisions', 'messages'])\n",
    "\n",
    "collisions = []\n",
    "messages = []\n",
    "dev_id = []\n",
    "\n",
    "for index,value in adr_data.items():\n",
    "    dev_id.append(index)\n",
    "    collision_count = adr_end_nodes.loc[adr_end_nodes.dev_id == index].collisions.values[0]\n",
    "    collisions.append(collision_count)\n",
    "    messages.append(value + collision_count)\n",
    "\n",
    "adr_nodes['dev_id'] = dev_id\n",
    "adr_nodes['collisions'] = collisions\n",
    "adr_nodes['messages'] = messages\n",
    "\n",
    "# Make the same for another algorithm\n",
    "ucb_data = ucb_uplink_messages.node_id.value_counts()\n",
    "ucb_nodes = pd.DataFrame({}, columns = ['dev_id', 'collisions', 'messages'])\n",
    "\n",
    "collisions = []\n",
    "messages = []\n",
    "dev_id = []\n",
    "\n",
    "for index,value in ucb_data.items():\n",
    "    dev_id.append(index)\n",
    "    collision_count = ucb_end_nodes.loc[ucb_end_nodes.dev_id == index].collisions.values[0]\n",
    "    collisions.append(collision_count)\n",
    "    messages.append(value + collision_count)\n",
    "\n",
    "ucb_nodes['dev_id'] = dev_id\n",
    "ucb_nodes['collisions'] = collisions\n",
    "ucb_nodes['messages'] = messages"
   ]
  },
  {
   "cell_type": "code",
   "execution_count": 18,
   "metadata": {},
   "outputs": [
    {
     "name": "stdout",
     "output_type": "stream",
     "text": [
      "Mean value of PDR for ADR is 11.91%\n",
      "Mean value of PDR for UCB is 80.85%\n"
     ]
    }
   ],
   "source": [
    "adr_nodes['pdr'] = round((1 - (adr_nodes.collisions / adr_nodes.messages))*100, 2)\n",
    "adr_mean_pdr = round(statistics.mean(adr_nodes.pdr), 2)\n",
    "\n",
    "ucb_nodes['pdr'] = round((1 - (ucb_nodes.collisions / ucb_nodes.messages))*100, 2)\n",
    "ucb_mean_pdr = round(statistics.mean(ucb_nodes.pdr), 2)\n",
    "\n",
    "print(f'Mean value of PDR for ADR is {adr_mean_pdr}%')\n",
    "print(f'Mean value of PDR for UCB is {ucb_mean_pdr}%')"
   ]
  },
  {
   "cell_type": "code",
   "execution_count": 19,
   "metadata": {
    "scrolled": true
   },
   "outputs": [
    {
     "name": "stdout",
     "output_type": "stream",
     "text": [
      "Max PDR for ADR: 26.22%\n",
      "Min PDR for ADR: 0.44%\n",
      "Max PDR for UCB: 100.0%\n",
      "Min PDR for UCB: 9.09%\n"
     ]
    }
   ],
   "source": [
    "adr_max_pdr = max(adr_nodes.pdr)\n",
    "adr_min_pdr = min(adr_nodes.pdr)\n",
    "ucb_max_pdr = max(ucb_nodes.pdr)\n",
    "ucb_min_pdr = min(ucb_nodes.pdr)\n",
    "\n",
    "max_pdr = max(adr_max_pdr, ucb_max_pdr)\n",
    "min_pdr = min(adr_min_pdr, ucb_min_pdr)\n",
    "range_pdr = max_pdr - min_pdr\n",
    "buckets = 8\n",
    "increment = math.ceil(range_pdr / buckets)\n",
    "\n",
    "print(f'Max PDR for ADR: {adr_max_pdr}%')\n",
    "print(f'Min PDR for ADR: {adr_min_pdr}%')\n",
    "print(f'Max PDR for UCB: {ucb_max_pdr}%')\n",
    "print(f'Min PDR for UCB: {ucb_min_pdr}%')"
   ]
  },
  {
   "cell_type": "code",
   "execution_count": 20,
   "metadata": {},
   "outputs": [
    {
     "data": {
      "image/png": "[encoded data removed]",
      "text/plain": [
       "<Figure size 1000x400 with 1 Axes>"
      ]
     },
     "metadata": {},
     "output_type": "display_data"
    }
   ],
   "source": [
    "fig, ax = plt.subplots(figsize=(10, 4))\n",
    "bins = []\n",
    "bar_width = 0.4\n",
    "index = np.arange(buckets)\n",
    "\n",
    "for i in range(buckets + 1):\n",
    "    bins.append(round(min_pdr + i * increment))\n",
    "\n",
    "out_adr = pd.cut(adr_nodes.pdr, bins=bins)\n",
    "adr_values = out_adr.value_counts(sort=False).iloc[::-1]\n",
    "\n",
    "out_ucb = pd.cut(ucb_nodes.pdr, bins=bins)\n",
    "ucb_values = out_ucb.value_counts(sort=False).iloc[::-1]\n",
    "\n",
    "ax.bar(index, adr_values, width=bar_width, color='green', label='ADR')\n",
    "ax.bar(index + bar_width, ucb_values, width=bar_width, color='blue', label='UCB')\n",
    "\n",
    "ax.set_xticks(index + bar_width / 2)\n",
    "ax.set_xticklabels(adr_values.index, rotation=45)\n",
    "\n",
    "ax.legend()\n",
    "\n",
    "ax.spines['top'].set_visible(False)\n",
    "ax.spines['right'].set_visible(False)\n",
    "ax.spines['left'].set_visible(False)\n",
    "ax.spines['bottom'].set_color('#DDDDDD')\n",
    "ax.tick_params(bottom=False, left=False)\n",
    "ax.set_axisbelow(True)\n",
    "ax.yaxis.grid(True, color='#EEEEEE')\n",
    "ax.xaxis.grid(False)\n",
    "\n",
    "ax.set_xlabel('Packet Delivery Ratio [%]', labelpad=15)\n",
    "ax.set_ylabel('Number of Devices', labelpad=15)\n",
    "ax.set_title('Comparison of PDR', pad=15)\n",
    "\n",
    "fig.tight_layout()\n",
    "\n",
    "for bar in ax.patches:\n",
    "  bar_value = round(bar.get_height())\n",
    "  text = f'{bar_value:,}'\n",
    "  text_x = bar.get_x() + bar.get_width() / 2\n",
    "  text_y = bar.get_y() + bar_value\n",
    "  bar_color = bar.get_facecolor()\n",
    "  ax.text(text_x, text_y, text, ha='center', va='bottom', color=bar_color, size=10)\n",
    "\n",
    "fig.savefig(f'adr-ucb-pdr.{output_format}', dpi=300)"
   ]
  },
  {
   "cell_type": "markdown",
   "metadata": {},
   "source": [
    "## Path of Each End Node"
   ]
  },
  {
   "cell_type": "markdown",
   "metadata": {},
   "source": [
    "Data about position are encoded as base64."
   ]
  },
  {
   "cell_type": "markdown",
   "metadata": {},
   "source": [
    "Decode base64, extract position and save the results to original data frame."
   ]
  },
  {
   "cell_type": "code",
   "execution_count": 21,
   "metadata": {},
   "outputs": [
    {
     "ename": "IndexError",
     "evalue": "list index out of range",
     "output_type": "error",
     "traceback": [
      "\u001b[0;31m---------------------------------------------------------------------------\u001b[0m",
      "\u001b[0;31mIndexError\u001b[0m                                Traceback (most recent call last)",
      "Cell \u001b[0;32mIn[21], line 12\u001b[0m\n\u001b[1;32m     10\u001b[0m \u001b[38;5;28;01mfor\u001b[39;00m row \u001b[38;5;129;01min\u001b[39;00m adr_app_data:\n\u001b[1;32m     11\u001b[0m     x\u001b[38;5;241m.\u001b[39mappend(\u001b[38;5;28mround\u001b[39m(\u001b[38;5;28mfloat\u001b[39m(row[\u001b[38;5;241m1\u001b[39m]\u001b[38;5;241m.\u001b[39msplit(\u001b[38;5;124m'\u001b[39m\u001b[38;5;130;01m\\'\u001b[39;00m\u001b[38;5;124m'\u001b[39m)[\u001b[38;5;241m0\u001b[39m]), \u001b[38;5;241m2\u001b[39m) \u001b[38;5;241m/\u001b[39m \u001b[38;5;241m1000\u001b[39m)\n\u001b[0;32m---> 12\u001b[0m     y\u001b[38;5;241m.\u001b[39mappend(\u001b[38;5;28mround\u001b[39m(\u001b[38;5;28mfloat\u001b[39m(\u001b[43mrow\u001b[49m\u001b[43m[\u001b[49m\u001b[38;5;241;43m0\u001b[39;49m\u001b[43m]\u001b[49m\u001b[38;5;241;43m.\u001b[39;49m\u001b[43msplit\u001b[49m\u001b[43m(\u001b[49m\u001b[38;5;124;43m'\u001b[39;49m\u001b[38;5;130;43;01m\\'\u001b[39;49;00m\u001b[38;5;124;43m'\u001b[39;49m\u001b[43m)\u001b[49m\u001b[43m[\u001b[49m\u001b[38;5;241;43m1\u001b[39;49m\u001b[43m]\u001b[49m), \u001b[38;5;241m2\u001b[39m) \u001b[38;5;241m/\u001b[39m \u001b[38;5;241m1000\u001b[39m)\n\u001b[1;32m     14\u001b[0m adr_uplink_messages[\u001b[38;5;124m'\u001b[39m\u001b[38;5;124mx\u001b[39m\u001b[38;5;124m'\u001b[39m] \u001b[38;5;241m=\u001b[39m x\n\u001b[1;32m     15\u001b[0m adr_uplink_messages[\u001b[38;5;124m'\u001b[39m\u001b[38;5;124my\u001b[39m\u001b[38;5;124m'\u001b[39m] \u001b[38;5;241m=\u001b[39m y\n",
      "\u001b[0;31mIndexError\u001b[0m: list index out of range"
     ]
    }
   ],
   "source": [
    "# Extracting X and Y coordinates from payload\n",
    "adr_app_data = adr_uplink_messages.app_data.apply(base64.b64decode)\n",
    "adr_app_data = adr_app_data.astype(str)\n",
    "adr_app_data = adr_app_data.str.split(',')\n",
    "\n",
    "df = pd.DataFrame({}, columns = ['node_id', 'x', 'y'])\n",
    "x = []\n",
    "y = []\n",
    "\n",
    "for row in adr_app_data:\n",
    "    x.append(round(float(row[1].split('\\'')[0]), 2) / 1000)\n",
    "    y.append(round(float(row[0].split('\\'')[1]), 2) / 1000)\n",
    "\n",
    "adr_uplink_messages['x'] = x\n",
    "adr_uplink_messages['y'] = y\n",
    "\n",
    "# Same for the second algorithm\n",
    "ucb_app_data = ucb_uplink_messages.app_data.apply(base64.b64decode)\n",
    "ucb_app_data = ucb_app_data.astype(str)\n",
    "ucb_app_data = ucb_app_data.str.split(',')\n",
    "\n",
    "df = pd.DataFrame({}, columns = ['node_id', 'x', 'y'])\n",
    "x = []\n",
    "y = []\n",
    "\n",
    "for row in ucb_app_data:\n",
    "    x.append(round(float(row[1].split('\\'')[0]), 2) / 1000)\n",
    "    y.append(round(float(row[0].split('\\'')[1]), 2) / 1000)\n",
    "\n",
    "ucb_uplink_messages['x'] = x\n",
    "ucb_uplink_messages['y'] = y"
   ]
  },
  {
   "cell_type": "markdown",
   "metadata": {},
   "source": [
    "Now, we draw a path for each end node based on the received coordinates."
   ]
  },
  {
   "cell_type": "code",
   "execution_count": null,
   "metadata": {},
   "outputs": [],
   "source": [
    "adr_unique_ens = len(adr_uplink_messages.node_id.unique())\n",
    "ucb_unique_ens = len(ucb_uplink_messages.node_id.unique())\n",
    "adr_cmap = mpl.cm.summer\n",
    "ucb_cmap = mpl.cm.winter\n",
    "xlim = 10\n",
    "ylim = 10\n",
    "\n",
    "fig, axis = plt.subplots(nrows=1, ncols=2, figsize=(10,5))\n",
    "\n",
    "for i in range(0, adr_unique_ens):\n",
    "    adr_data = adr_uplink_messages[adr_uplink_messages.node_id == adr_uplink_messages.node_id[i]]\n",
    "    axis[0].plot(adr_data.x, adr_data.y, color=adr_cmap(i / adr_unique_ens))\n",
    "    \n",
    "for i in range(0, ucb_unique_ens):\n",
    "    ucb_data = ucb_uplink_messages[ucb_uplink_messages.node_id == ucb_uplink_messages.node_id[i]]\n",
    "    axis[1].plot(ucb_data.x, ucb_data.y, color=ucb_cmap(i / ucb_unique_ens))\n",
    "    \n",
    "# Add Access Point\n",
    "axis[0].plot(xlim / 2, ylim / 2, '+', mew=10, ms=2, color='black')\n",
    "axis[1].plot(xlim / 2, ylim / 2, '+', mew=10, ms=2, color='black')\n",
    "# ax.plot(xlim / 2 + 5, ylim / 2 - 5, 'X', mew=10, ms=2, color='black')\n",
    "\n",
    "for i in range(2):\n",
    "    axis[i].set_xlim([0,xlim])\n",
    "    axis[i].set_ylim([0,ylim])\n",
    "    axis[i].spines['top'].set_visible(False)\n",
    "    axis[i].spines['right'].set_color('#dddddd')\n",
    "    axis[i].spines['left'].set_visible(False)\n",
    "    axis[i].spines['bottom'].set_color('#dddddd')\n",
    "    axis[i].tick_params(bottom=False, left=False)\n",
    "    axis[i].set_axisbelow(True)\n",
    "    axis[i].yaxis.grid(True, color='#eeeeee')\n",
    "    axis[i].xaxis.grid(True, color='#eeeeee')\n",
    "    axis[i].set_xlabel('X [km]', labelpad=15)\n",
    "    axis[i].set_ylabel('Y [km]', labelpad=15)\n",
    "\n",
    "axis[0].set_title('Paths of ADR Nodes', pad=15)\n",
    "axis[1].set_title('Paths of UCB Nodes', pad=15)\n",
    "\n",
    "fig.tight_layout()\n",
    "\n",
    "fig.savefig(f'adr-ucb-paths.{output_format}', dpi=300)"
   ]
  },
  {
   "cell_type": "markdown",
   "metadata": {},
   "source": [
    "The End."
   ]
  }
 ],
 "metadata": {
  "kernelspec": {
   "display_name": "Python 3 (ipykernel)",
   "language": "python",
   "name": "python3"
  },
  "language_info": {
   "codemirror_mode": {
    "name": "ipython",
    "version": 3
   },
   "file_extension": ".py",
   "mimetype": "text/x-python",
   "name": "python",
   "nbconvert_exporter": "python",
   "pygments_lexer": "ipython3",
   "version": "3.10.12"
  }
 },
 "nbformat": 4,
 "nbformat_minor": 4
}
