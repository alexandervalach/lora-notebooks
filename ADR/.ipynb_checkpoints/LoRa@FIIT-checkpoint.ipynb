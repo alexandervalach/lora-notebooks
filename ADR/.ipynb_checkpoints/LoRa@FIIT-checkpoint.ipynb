{
 "cells": [
  {
   "cell_type": "markdown",
   "metadata": {},
   "source": [
    "# LoRa@FIIT- 3.5.2020\n"
   ]
  },
  {
   "cell_type": "markdown",
   "metadata": {},
   "source": [
    "Code Rate: 4/5"
   ]
  },
  {
   "cell_type": "markdown",
   "metadata": {},
   "source": [
    "Bandwidth: 125 kHz"
   ]
  },
  {
   "cell_type": "code",
   "execution_count": 2,
   "metadata": {},
   "outputs": [],
   "source": [
    "%matplotlib inline\n",
    "import pandas as pd\n",
    "import numpy as np\n",
    "import matplotlib.pyplot as plt"
   ]
  },
  {
   "cell_type": "markdown",
   "metadata": {},
   "source": [
    "## Uplink dáta"
   ]
  },
  {
   "cell_type": "markdown",
   "metadata": {},
   "source": [
    "Načítanie uplink dát"
   ]
  },
  {
   "cell_type": "code",
   "execution_count": 3,
   "metadata": {},
   "outputs": [],
   "source": [
    "uplink_data = pd.read_csv('uplink_messages.csv', delimiter=',')"
   ]
  },
  {
   "cell_type": "code",
   "execution_count": 4,
   "metadata": {
    "scrolled": true
   },
   "outputs": [
    {
     "data": {
      "text/html": [
       "<div>\n",
       "<style scoped>\n",
       "    .dataframe tbody tr th:only-of-type {\n",
       "        vertical-align: middle;\n",
       "    }\n",
       "\n",
       "    .dataframe tbody tr th {\n",
       "        vertical-align: top;\n",
       "    }\n",
       "\n",
       "    .dataframe thead th {\n",
       "        text-align: right;\n",
       "    }\n",
       "</style>\n",
       "<table border=\"1\" class=\"dataframe\">\n",
       "  <thead>\n",
       "    <tr style=\"text-align: right;\">\n",
       "      <th></th>\n",
       "      <th>id</th>\n",
       "      <th>app_data</th>\n",
       "      <th>snr</th>\n",
       "      <th>rssi</th>\n",
       "      <th>duty_cycle_remaining</th>\n",
       "      <th>is_primary</th>\n",
       "      <th>receive_time</th>\n",
       "      <th>seq</th>\n",
       "      <th>frequency</th>\n",
       "      <th>spf</th>\n",
       "      <th>power</th>\n",
       "      <th>airtime</th>\n",
       "      <th>coderate</th>\n",
       "      <th>bandwidth</th>\n",
       "      <th>msg_group_number</th>\n",
       "      <th>message_type_id</th>\n",
       "      <th>ap_id</th>\n",
       "      <th>node_id</th>\n",
       "    </tr>\n",
       "  </thead>\n",
       "  <tbody>\n",
       "    <tr>\n",
       "      <th>0</th>\n",
       "      <td>1</td>\n",
       "      <td>MTMxLDEwMA==</td>\n",
       "      <td>8.71</td>\n",
       "      <td>-91.2</td>\n",
       "      <td>34922</td>\n",
       "      <td>t</td>\n",
       "      <td>2020-05-03 20:43:41.059</td>\n",
       "      <td>1</td>\n",
       "      <td>866100000</td>\n",
       "      <td>7</td>\n",
       "      <td>13</td>\n",
       "      <td>46</td>\n",
       "      <td>4/5</td>\n",
       "      <td>125000</td>\n",
       "      <td>0</td>\n",
       "      <td>1</td>\n",
       "      <td>111111</td>\n",
       "      <td>pjdQ</td>\n",
       "    </tr>\n",
       "    <tr>\n",
       "      <th>1</th>\n",
       "      <td>2</td>\n",
       "      <td>OTgsMTAw</td>\n",
       "      <td>9.53</td>\n",
       "      <td>-45.4</td>\n",
       "      <td>35059</td>\n",
       "      <td>t</td>\n",
       "      <td>2020-05-03 20:43:46.054</td>\n",
       "      <td>1</td>\n",
       "      <td>866100000</td>\n",
       "      <td>7</td>\n",
       "      <td>13</td>\n",
       "      <td>40</td>\n",
       "      <td>4/5</td>\n",
       "      <td>125000</td>\n",
       "      <td>0</td>\n",
       "      <td>1</td>\n",
       "      <td>111111</td>\n",
       "      <td>LteR</td>\n",
       "    </tr>\n",
       "    <tr>\n",
       "      <th>2</th>\n",
       "      <td>3</td>\n",
       "      <td>MTI2LDEwMA==</td>\n",
       "      <td>11.58</td>\n",
       "      <td>-73.5</td>\n",
       "      <td>34922</td>\n",
       "      <td>t</td>\n",
       "      <td>2020-05-03 20:43:51.63</td>\n",
       "      <td>1</td>\n",
       "      <td>866100000</td>\n",
       "      <td>7</td>\n",
       "      <td>13</td>\n",
       "      <td>46</td>\n",
       "      <td>4/5</td>\n",
       "      <td>125000</td>\n",
       "      <td>0</td>\n",
       "      <td>1</td>\n",
       "      <td>111111</td>\n",
       "      <td>3HGr</td>\n",
       "    </tr>\n",
       "    <tr>\n",
       "      <th>3</th>\n",
       "      <td>4</td>\n",
       "      <td>NTEsMTAw</td>\n",
       "      <td>8.27</td>\n",
       "      <td>-102.1</td>\n",
       "      <td>34198</td>\n",
       "      <td>t</td>\n",
       "      <td>2020-05-03 20:44:12.303</td>\n",
       "      <td>1</td>\n",
       "      <td>866900000</td>\n",
       "      <td>12</td>\n",
       "      <td>15</td>\n",
       "      <td>901</td>\n",
       "      <td>4/5</td>\n",
       "      <td>125000</td>\n",
       "      <td>0</td>\n",
       "      <td>2</td>\n",
       "      <td>111111</td>\n",
       "      <td>TOxm</td>\n",
       "    </tr>\n",
       "    <tr>\n",
       "      <th>4</th>\n",
       "      <td>5</td>\n",
       "      <td>ODMsMTAw</td>\n",
       "      <td>8.73</td>\n",
       "      <td>-79.2</td>\n",
       "      <td>34198</td>\n",
       "      <td>t</td>\n",
       "      <td>2020-05-03 20:44:22.876</td>\n",
       "      <td>1</td>\n",
       "      <td>866100000</td>\n",
       "      <td>12</td>\n",
       "      <td>15</td>\n",
       "      <td>901</td>\n",
       "      <td>4/5</td>\n",
       "      <td>125000</td>\n",
       "      <td>0</td>\n",
       "      <td>1</td>\n",
       "      <td>111111</td>\n",
       "      <td>JJ5v</td>\n",
       "    </tr>\n",
       "  </tbody>\n",
       "</table>\n",
       "</div>"
      ],
      "text/plain": [
       "   id      app_data    snr   rssi  duty_cycle_remaining is_primary  \\\n",
       "0   1  MTMxLDEwMA==   8.71  -91.2                 34922          t   \n",
       "1   2      OTgsMTAw   9.53  -45.4                 35059          t   \n",
       "2   3  MTI2LDEwMA==  11.58  -73.5                 34922          t   \n",
       "3   4      NTEsMTAw   8.27 -102.1                 34198          t   \n",
       "4   5      ODMsMTAw   8.73  -79.2                 34198          t   \n",
       "\n",
       "              receive_time  seq  frequency  spf  power  airtime coderate  \\\n",
       "0  2020-05-03 20:43:41.059    1  866100000    7     13       46      4/5   \n",
       "1  2020-05-03 20:43:46.054    1  866100000    7     13       40      4/5   \n",
       "2   2020-05-03 20:43:51.63    1  866100000    7     13       46      4/5   \n",
       "3  2020-05-03 20:44:12.303    1  866900000   12     15      901      4/5   \n",
       "4  2020-05-03 20:44:22.876    1  866100000   12     15      901      4/5   \n",
       "\n",
       "   bandwidth  msg_group_number  message_type_id   ap_id node_id  \n",
       "0     125000                 0                1  111111    pjdQ  \n",
       "1     125000                 0                1  111111    LteR  \n",
       "2     125000                 0                1  111111    3HGr  \n",
       "3     125000                 0                2  111111    TOxm  \n",
       "4     125000                 0                1  111111    JJ5v  "
      ]
     },
     "execution_count": 4,
     "metadata": {},
     "output_type": "execute_result"
    }
   ],
   "source": [
    "uplink_data.head()"
   ]
  },
  {
   "cell_type": "markdown",
   "metadata": {},
   "source": [
    "Odstránime nepotrebné stĺpce"
   ]
  },
  {
   "cell_type": "code",
   "execution_count": 5,
   "metadata": {},
   "outputs": [],
   "source": [
    "del uplink_data['id']\n",
    "del uplink_data['msg_group_number']\n",
    "del uplink_data['is_primary']\n",
    "del uplink_data['message_type_id']\n",
    "del uplink_data['coderate']\n",
    "del uplink_data['bandwidth']\n",
    "del uplink_data['receive_time']"
   ]
  },
  {
   "cell_type": "markdown",
   "metadata": {},
   "source": [
    "Pridanie stĺpca pre ruku banditu. Poslúži na neskoršie porovnanie"
   ]
  },
  {
   "cell_type": "code",
   "execution_count": 6,
   "metadata": {},
   "outputs": [
    {
     "data": {
      "text/html": [
       "<div>\n",
       "<style scoped>\n",
       "    .dataframe tbody tr th:only-of-type {\n",
       "        vertical-align: middle;\n",
       "    }\n",
       "\n",
       "    .dataframe tbody tr th {\n",
       "        vertical-align: top;\n",
       "    }\n",
       "\n",
       "    .dataframe thead th {\n",
       "        text-align: right;\n",
       "    }\n",
       "</style>\n",
       "<table border=\"1\" class=\"dataframe\">\n",
       "  <thead>\n",
       "    <tr style=\"text-align: right;\">\n",
       "      <th></th>\n",
       "      <th>app_data</th>\n",
       "      <th>snr</th>\n",
       "      <th>rssi</th>\n",
       "      <th>duty_cycle_remaining</th>\n",
       "      <th>seq</th>\n",
       "      <th>frequency</th>\n",
       "      <th>spf</th>\n",
       "      <th>power</th>\n",
       "      <th>airtime</th>\n",
       "      <th>ap_id</th>\n",
       "      <th>node_id</th>\n",
       "    </tr>\n",
       "  </thead>\n",
       "  <tbody>\n",
       "    <tr>\n",
       "      <th>0</th>\n",
       "      <td>MTMxLDEwMA==</td>\n",
       "      <td>8.71</td>\n",
       "      <td>-91.2</td>\n",
       "      <td>34922</td>\n",
       "      <td>1</td>\n",
       "      <td>866100000</td>\n",
       "      <td>7</td>\n",
       "      <td>13</td>\n",
       "      <td>46</td>\n",
       "      <td>111111</td>\n",
       "      <td>pjdQ</td>\n",
       "    </tr>\n",
       "    <tr>\n",
       "      <th>1</th>\n",
       "      <td>OTgsMTAw</td>\n",
       "      <td>9.53</td>\n",
       "      <td>-45.4</td>\n",
       "      <td>35059</td>\n",
       "      <td>1</td>\n",
       "      <td>866100000</td>\n",
       "      <td>7</td>\n",
       "      <td>13</td>\n",
       "      <td>40</td>\n",
       "      <td>111111</td>\n",
       "      <td>LteR</td>\n",
       "    </tr>\n",
       "    <tr>\n",
       "      <th>2</th>\n",
       "      <td>MTI2LDEwMA==</td>\n",
       "      <td>11.58</td>\n",
       "      <td>-73.5</td>\n",
       "      <td>34922</td>\n",
       "      <td>1</td>\n",
       "      <td>866100000</td>\n",
       "      <td>7</td>\n",
       "      <td>13</td>\n",
       "      <td>46</td>\n",
       "      <td>111111</td>\n",
       "      <td>3HGr</td>\n",
       "    </tr>\n",
       "    <tr>\n",
       "      <th>3</th>\n",
       "      <td>NTEsMTAw</td>\n",
       "      <td>8.27</td>\n",
       "      <td>-102.1</td>\n",
       "      <td>34198</td>\n",
       "      <td>1</td>\n",
       "      <td>866900000</td>\n",
       "      <td>12</td>\n",
       "      <td>15</td>\n",
       "      <td>901</td>\n",
       "      <td>111111</td>\n",
       "      <td>TOxm</td>\n",
       "    </tr>\n",
       "    <tr>\n",
       "      <th>4</th>\n",
       "      <td>ODMsMTAw</td>\n",
       "      <td>8.73</td>\n",
       "      <td>-79.2</td>\n",
       "      <td>34198</td>\n",
       "      <td>1</td>\n",
       "      <td>866100000</td>\n",
       "      <td>12</td>\n",
       "      <td>15</td>\n",
       "      <td>901</td>\n",
       "      <td>111111</td>\n",
       "      <td>JJ5v</td>\n",
       "    </tr>\n",
       "  </tbody>\n",
       "</table>\n",
       "</div>"
      ],
      "text/plain": [
       "       app_data    snr   rssi  duty_cycle_remaining  seq  frequency  spf  \\\n",
       "0  MTMxLDEwMA==   8.71  -91.2                 34922    1  866100000    7   \n",
       "1      OTgsMTAw   9.53  -45.4                 35059    1  866100000    7   \n",
       "2  MTI2LDEwMA==  11.58  -73.5                 34922    1  866100000    7   \n",
       "3      NTEsMTAw   8.27 -102.1                 34198    1  866900000   12   \n",
       "4      ODMsMTAw   8.73  -79.2                 34198    1  866100000   12   \n",
       "\n",
       "   power  airtime   ap_id node_id  \n",
       "0     13       46  111111    pjdQ  \n",
       "1     13       40  111111    LteR  \n",
       "2     13       46  111111    3HGr  \n",
       "3     15      901  111111    TOxm  \n",
       "4     15      901  111111    JJ5v  "
      ]
     },
     "execution_count": 6,
     "metadata": {},
     "output_type": "execute_result"
    }
   ],
   "source": [
    "uplink_data.head()"
   ]
  },
  {
   "cell_type": "code",
   "execution_count": 7,
   "metadata": {},
   "outputs": [],
   "source": [
    "uplink_data['arm'] = 'S' + uplink_data.spf.astype(str) + 'P' + uplink_data.power.astype(str)"
   ]
  },
  {
   "cell_type": "markdown",
   "metadata": {},
   "source": [
    "### Voľba komunikačných parametrov"
   ]
  },
  {
   "cell_type": "code",
   "execution_count": 8,
   "metadata": {},
   "outputs": [
    {
     "data": {
      "text/plain": [
       "Text(0, 0.5, 'Počet správ')"
      ]
     },
     "execution_count": 8,
     "metadata": {},
     "output_type": "execute_result"
    },
    {
     "data": {
      "image/png": "[encoded data removed]",
      "text/plain": [
       "<Figure size 1080x360 with 1 Axes>"
      ]
     },
     "metadata": {
      "needs_background": "light"
     },
     "output_type": "display_data"
    }
   ],
   "source": [
    "hist = uplink_data.arm.value_counts().plot(kind='bar',figsize=(15,5),rot=0)\n",
    "hist.set_xlabel(\"Ruka banditu\",fontsize=12)\n",
    "hist.set_ylabel(\"Počet správ\",fontsize=12)"
   ]
  },
  {
   "cell_type": "markdown",
   "metadata": {},
   "source": [
    "### Duty cycle korekcia hodnôt"
   ]
  },
  {
   "cell_type": "code",
   "execution_count": 11,
   "metadata": {},
   "outputs": [
    {
     "data": {
      "text/plain": [
       "count    12665.000000\n",
       "mean     34308.999289\n",
       "std       1821.672572\n",
       "min      24271.000000\n",
       "25%      33723.000000\n",
       "50%      34750.000000\n",
       "75%      35634.000000\n",
       "max      35960.000000\n",
       "Name: duty_cycle_remaining, dtype: float64"
      ]
     },
     "execution_count": 11,
     "metadata": {},
     "output_type": "execute_result"
    }
   ],
   "source": [
    "uplink_data.duty_cycle_remaining.describe()"
   ]
  },
  {
   "cell_type": "markdown",
   "metadata": {},
   "source": [
    "### Faktor šírenia (Spreading Factor)"
   ]
  },
  {
   "cell_type": "code",
   "execution_count": 12,
   "metadata": {
    "scrolled": true
   },
   "outputs": [
    {
     "data": {
      "text/plain": [
       "Text(0, 0.5, 'Počet správ')"
      ]
     },
     "execution_count": 12,
     "metadata": {},
     "output_type": "execute_result"
    },
    {
     "data": {
      "image/png": "[encoded data removed]",
      "text/plain": [
       "<Figure size 432x288 with 1 Axes>"
      ]
     },
     "metadata": {
      "needs_background": "light"
     },
     "output_type": "display_data"
    }
   ],
   "source": [
    "hist = uplink_data.spf.value_counts().plot(kind='bar',rot=0)\n",
    "hist.set_xlabel(\"SF\",fontsize=12)\n",
    "hist.set_ylabel(\"Počet správ\",fontsize=12)"
   ]
  },
  {
   "cell_type": "markdown",
   "metadata": {},
   "source": [
    "### Využitie frekvenčného pásma"
   ]
  },
  {
   "cell_type": "code",
   "execution_count": 13,
   "metadata": {},
   "outputs": [
    {
     "data": {
      "text/plain": [
       "Text(0, 0.5, 'Počet správ')"
      ]
     },
     "execution_count": 13,
     "metadata": {},
     "output_type": "execute_result"
    },
    {
     "data": {
      "image/png": "[encoded data removed]",
      "text/plain": [
       "<Figure size 432x288 with 1 Axes>"
      ]
     },
     "metadata": {
      "needs_background": "light"
     },
     "output_type": "display_data"
    }
   ],
   "source": [
    "uplink_frequency = uplink_data.frequency / 1000000\n",
    "hist = uplink_frequency.value_counts().plot(kind='bar',rot=0)\n",
    "hist.set_xlabel(\"Frekvencia [MHz]\",fontsize=12)\n",
    "hist.set_ylabel(\"Počet správ\",fontsize=12)"
   ]
  },
  {
   "cell_type": "markdown",
   "metadata": {},
   "source": [
    "### Využitie LoRa prístupových bodov"
   ]
  },
  {
   "cell_type": "code",
   "execution_count": 15,
   "metadata": {},
   "outputs": [
    {
     "data": {
      "text/plain": [
       "Text(0, 0.5, 'Počet správ')"
      ]
     },
     "execution_count": 15,
     "metadata": {},
     "output_type": "execute_result"
    },
    {
     "data": {
      "image/png": "[encoded data removed]",
      "text/plain": [
       "<Figure size 432x288 with 1 Axes>"
      ]
     },
     "metadata": {
      "needs_background": "light"
     },
     "output_type": "display_data"
    }
   ],
   "source": [
    "hist = uplink_data.ap_id.value_counts().plot(kind='bar',rot=0)\n",
    "hist.set_xlabel(\"AP\",fontsize=12)\n",
    "hist.set_ylabel(\"Počet správ\",fontsize=12)"
   ]
  },
  {
   "cell_type": "markdown",
   "metadata": {},
   "source": [
    "### Trvanie prenosu"
   ]
  },
  {
   "cell_type": "code",
   "execution_count": 17,
   "metadata": {},
   "outputs": [
    {
     "data": {
      "text/plain": [
       "Text(0, 0.5, 'Počet správ')"
      ]
     },
     "execution_count": 17,
     "metadata": {},
     "output_type": "execute_result"
    },
    {
     "data": {
      "image/png": "[encoded data removed]",
      "text/plain": [
       "<Figure size 432x288 with 1 Axes>"
      ]
     },
     "metadata": {
      "needs_background": "light"
     },
     "output_type": "display_data"
    }
   ],
   "source": [
    "hist = uplink_data.airtime.value_counts().plot(kind=\"bar\",rot=0)\n",
    "hist.set_xlabel(\"ToA [ms]\",fontsize=12)\n",
    "hist.set_ylabel(\"Počet správ\",fontsize=12)"
   ]
  },
  {
   "cell_type": "markdown",
   "metadata": {},
   "source": [
    "### Vysielací výkon (Power)"
   ]
  },
  {
   "cell_type": "code",
   "execution_count": 18,
   "metadata": {
    "scrolled": true
   },
   "outputs": [
    {
     "data": {
      "text/plain": [
       "Text(0, 0.5, 'Počet správ')"
      ]
     },
     "execution_count": 18,
     "metadata": {},
     "output_type": "execute_result"
    },
    {
     "data": {
      "image/png": "[encoded data removed]",
      "text/plain": [
       "<Figure size 432x288 with 1 Axes>"
      ]
     },
     "metadata": {
      "needs_background": "light"
     },
     "output_type": "display_data"
    }
   ],
   "source": [
    "hist = uplink_data.power.value_counts().plot(kind=\"bar\",rot=0)\n",
    "hist.set_xlabel(\"Vysielací výkon [dBm]\",fontsize=12)\n",
    "hist.set_ylabel(\"Počet správ\",fontsize=12)"
   ]
  },
  {
   "cell_type": "markdown",
   "metadata": {},
   "source": [
    "### Koncové zariadenia"
   ]
  },
  {
   "cell_type": "code",
   "execution_count": 19,
   "metadata": {
    "scrolled": true
   },
   "outputs": [
    {
     "data": {
      "text/plain": [
       "count     12665\n",
       "unique      232\n",
       "top        3h2U\n",
       "freq        139\n",
       "Name: node_id, dtype: object"
      ]
     },
     "execution_count": 19,
     "metadata": {},
     "output_type": "execute_result"
    }
   ],
   "source": [
    "uplink_data.node_id.describe()"
   ]
  },
  {
   "cell_type": "markdown",
   "metadata": {},
   "source": [
    "Vysielalo celkovo 100 koncových zariadení a 1 prístupový bod."
   ]
  },
  {
   "cell_type": "code",
   "execution_count": 20,
   "metadata": {},
   "outputs": [],
   "source": [
    "nodes_data = uplink_data.node_id.unique()"
   ]
  },
  {
   "cell_type": "code",
   "execution_count": 21,
   "metadata": {},
   "outputs": [
    {
     "data": {
      "text/plain": [
       "0        pjdQ\n",
       "1        LteR\n",
       "2        3HGr\n",
       "3        TOxm\n",
       "4        JJ5v\n",
       "         ... \n",
       "12660    rUmN\n",
       "12661    ppam\n",
       "12662    5Z0m\n",
       "12663    Ayve\n",
       "12664    jdUV\n",
       "Name: node_id, Length: 12665, dtype: object"
      ]
     },
     "execution_count": 21,
     "metadata": {},
     "output_type": "execute_result"
    }
   ],
   "source": [
    "uplink_data.node_id"
   ]
  },
  {
   "cell_type": "markdown",
   "metadata": {},
   "source": [
    "## Downlink Messages"
   ]
  },
  {
   "cell_type": "code",
   "execution_count": 22,
   "metadata": {},
   "outputs": [],
   "source": [
    "downlink_data = pd.read_csv('downlink_messages.csv', delimiter=',')"
   ]
  },
  {
   "cell_type": "code",
   "execution_count": 23,
   "metadata": {
    "scrolled": true
   },
   "outputs": [
    {
     "data": {
      "text/html": [
       "<div>\n",
       "<style scoped>\n",
       "    .dataframe tbody tr th:only-of-type {\n",
       "        vertical-align: middle;\n",
       "    }\n",
       "\n",
       "    .dataframe tbody tr th {\n",
       "        vertical-align: top;\n",
       "    }\n",
       "\n",
       "    .dataframe thead th {\n",
       "        text-align: right;\n",
       "    }\n",
       "</style>\n",
       "<table border=\"1\" class=\"dataframe\">\n",
       "  <thead>\n",
       "    <tr style=\"text-align: right;\">\n",
       "      <th></th>\n",
       "      <th>id</th>\n",
       "      <th>app_data</th>\n",
       "      <th>net_data</th>\n",
       "      <th>duty_cycle_remaining</th>\n",
       "      <th>sent</th>\n",
       "      <th>ack_required</th>\n",
       "      <th>delivered</th>\n",
       "      <th>send_time</th>\n",
       "      <th>frequency</th>\n",
       "      <th>spf</th>\n",
       "      <th>power</th>\n",
       "      <th>airtime</th>\n",
       "      <th>coderate</th>\n",
       "      <th>bandwidth</th>\n",
       "      <th>ap_id</th>\n",
       "      <th>node_id</th>\n",
       "    </tr>\n",
       "  </thead>\n",
       "  <tbody>\n",
       "    <tr>\n",
       "      <th>0</th>\n",
       "      <td>1</td>\n",
       "      <td>NaN</td>\n",
       "      <td>[{\"sf\":10,\"power\":15,\"type\":\"NORMAL\"}]</td>\n",
       "      <td>35005</td>\n",
       "      <td>t</td>\n",
       "      <td>f</td>\n",
       "      <td>t</td>\n",
       "      <td>2020-05-03 20:43:46.063</td>\n",
       "      <td>866100000</td>\n",
       "      <td>7</td>\n",
       "      <td>15</td>\n",
       "      <td>40</td>\n",
       "      <td>4/5</td>\n",
       "      <td>125000</td>\n",
       "      <td>111111</td>\n",
       "      <td>LteR</td>\n",
       "    </tr>\n",
       "    <tr>\n",
       "      <th>1</th>\n",
       "      <td>2</td>\n",
       "      <td>NaN</td>\n",
       "      <td>[{\"sf\":11,\"power\":15,\"type\":\"NORMAL\"}]</td>\n",
       "      <td>34868</td>\n",
       "      <td>t</td>\n",
       "      <td>f</td>\n",
       "      <td>t</td>\n",
       "      <td>2020-05-03 20:43:51.637</td>\n",
       "      <td>866100000</td>\n",
       "      <td>7</td>\n",
       "      <td>15</td>\n",
       "      <td>46</td>\n",
       "      <td>4/5</td>\n",
       "      <td>125000</td>\n",
       "      <td>111111</td>\n",
       "      <td>3HGr</td>\n",
       "    </tr>\n",
       "    <tr>\n",
       "      <th>2</th>\n",
       "      <td>3</td>\n",
       "      <td>NaN</td>\n",
       "      <td>[]</td>\n",
       "      <td>33608</td>\n",
       "      <td>t</td>\n",
       "      <td>f</td>\n",
       "      <td>t</td>\n",
       "      <td>2020-05-03 20:44:12.309</td>\n",
       "      <td>866900000</td>\n",
       "      <td>12</td>\n",
       "      <td>15</td>\n",
       "      <td>901</td>\n",
       "      <td>4/5</td>\n",
       "      <td>125000</td>\n",
       "      <td>111111</td>\n",
       "      <td>TOxm</td>\n",
       "    </tr>\n",
       "    <tr>\n",
       "      <th>3</th>\n",
       "      <td>4</td>\n",
       "      <td>NaN</td>\n",
       "      <td>[{\"sf\":10,\"power\":15,\"type\":\"NORMAL\"}]</td>\n",
       "      <td>33280</td>\n",
       "      <td>t</td>\n",
       "      <td>f</td>\n",
       "      <td>t</td>\n",
       "      <td>2020-05-03 20:44:22.884</td>\n",
       "      <td>866100000</td>\n",
       "      <td>12</td>\n",
       "      <td>15</td>\n",
       "      <td>901</td>\n",
       "      <td>4/5</td>\n",
       "      <td>125000</td>\n",
       "      <td>111111</td>\n",
       "      <td>JJ5v</td>\n",
       "    </tr>\n",
       "    <tr>\n",
       "      <th>4</th>\n",
       "      <td>5</td>\n",
       "      <td>NaN</td>\n",
       "      <td>[{\"sf\":11,\"power\":14,\"type\":\"NORMAL\"}]</td>\n",
       "      <td>33149</td>\n",
       "      <td>t</td>\n",
       "      <td>f</td>\n",
       "      <td>t</td>\n",
       "      <td>2020-05-03 20:44:39.591</td>\n",
       "      <td>866100000</td>\n",
       "      <td>12</td>\n",
       "      <td>14</td>\n",
       "      <td>1032</td>\n",
       "      <td>4/5</td>\n",
       "      <td>125000</td>\n",
       "      <td>111111</td>\n",
       "      <td>ZFT1</td>\n",
       "    </tr>\n",
       "  </tbody>\n",
       "</table>\n",
       "</div>"
      ],
      "text/plain": [
       "   id  app_data                                net_data  duty_cycle_remaining  \\\n",
       "0   1       NaN  [{\"sf\":10,\"power\":15,\"type\":\"NORMAL\"}]                 35005   \n",
       "1   2       NaN  [{\"sf\":11,\"power\":15,\"type\":\"NORMAL\"}]                 34868   \n",
       "2   3       NaN                                      []                 33608   \n",
       "3   4       NaN  [{\"sf\":10,\"power\":15,\"type\":\"NORMAL\"}]                 33280   \n",
       "4   5       NaN  [{\"sf\":11,\"power\":14,\"type\":\"NORMAL\"}]                 33149   \n",
       "\n",
       "  sent ack_required delivered                send_time  frequency  spf  power  \\\n",
       "0    t            f         t  2020-05-03 20:43:46.063  866100000    7     15   \n",
       "1    t            f         t  2020-05-03 20:43:51.637  866100000    7     15   \n",
       "2    t            f         t  2020-05-03 20:44:12.309  866900000   12     15   \n",
       "3    t            f         t  2020-05-03 20:44:22.884  866100000   12     15   \n",
       "4    t            f         t  2020-05-03 20:44:39.591  866100000   12     14   \n",
       "\n",
       "   airtime coderate  bandwidth   ap_id node_id  \n",
       "0       40      4/5     125000  111111    LteR  \n",
       "1       46      4/5     125000  111111    3HGr  \n",
       "2      901      4/5     125000  111111    TOxm  \n",
       "3      901      4/5     125000  111111    JJ5v  \n",
       "4     1032      4/5     125000  111111    ZFT1  "
      ]
     },
     "execution_count": 23,
     "metadata": {},
     "output_type": "execute_result"
    }
   ],
   "source": [
    "downlink_data.head()"
   ]
  },
  {
   "cell_type": "markdown",
   "metadata": {},
   "source": [
    "### Využitie LoRa prístupových bodov"
   ]
  },
  {
   "cell_type": "code",
   "execution_count": 24,
   "metadata": {},
   "outputs": [
    {
     "data": {
      "text/plain": [
       "Text(0, 0.5, 'Počet správ')"
      ]
     },
     "execution_count": 24,
     "metadata": {},
     "output_type": "execute_result"
    },
    {
     "data": {
      "image/png": "[encoded data removed]",
      "text/plain": [
       "<Figure size 432x288 with 1 Axes>"
      ]
     },
     "metadata": {
      "needs_background": "light"
     },
     "output_type": "display_data"
    }
   ],
   "source": [
    "hist = downlink_data.ap_id.value_counts().plot(kind='bar',rot=0)\n",
    "hist.set_xlabel(\"AP\",fontsize=12)\n",
    "hist.set_ylabel(\"Počet správ\",fontsize=12)"
   ]
  },
  {
   "cell_type": "markdown",
   "metadata": {},
   "source": [
    "### Korekcia duty cycle (Pracovný cyklus)"
   ]
  },
  {
   "cell_type": "code",
   "execution_count": 25,
   "metadata": {},
   "outputs": [
    {
     "data": {
      "text/plain": [
       "count     5902.000000\n",
       "mean     32717.371908\n",
       "std       2182.417228\n",
       "min      23353.000000\n",
       "25%      32078.000000\n",
       "50%      33256.000000\n",
       "75%      34145.000000\n",
       "max      35906.000000\n",
       "Name: duty_cycle_remaining, dtype: float64"
      ]
     },
     "execution_count": 25,
     "metadata": {},
     "output_type": "execute_result"
    }
   ],
   "source": [
    "downlink_data.duty_cycle_remaining.describe()"
   ]
  },
  {
   "cell_type": "markdown",
   "metadata": {},
   "source": [
    "### Spreading Factor (Faktor šírenia)"
   ]
  },
  {
   "cell_type": "code",
   "execution_count": 26,
   "metadata": {
    "scrolled": true
   },
   "outputs": [
    {
     "data": {
      "text/plain": [
       "Text(0, 0.5, 'Počet správ')"
      ]
     },
     "execution_count": 26,
     "metadata": {},
     "output_type": "execute_result"
    },
    {
     "data": {
      "image/png": "[encoded data removed]",
      "text/plain": [
       "<Figure size 432x288 with 1 Axes>"
      ]
     },
     "metadata": {
      "needs_background": "light"
     },
     "output_type": "display_data"
    }
   ],
   "source": [
    "hist = downlink_data.spf.value_counts().plot(kind='bar',rot=0)\n",
    "hist.set_xlabel(\"SF\",fontsize=12)\n",
    "hist.set_ylabel(\"Počet správ\",fontsize=12)"
   ]
  },
  {
   "cell_type": "markdown",
   "metadata": {},
   "source": [
    "### Využitie frekvenčného pásma"
   ]
  },
  {
   "cell_type": "code",
   "execution_count": 27,
   "metadata": {},
   "outputs": [
    {
     "data": {
      "text/plain": [
       "Text(0, 0.5, 'Počet správ')"
      ]
     },
     "execution_count": 27,
     "metadata": {},
     "output_type": "execute_result"
    },
    {
     "data": {
      "image/png": "[encoded data removed]",
      "text/plain": [
       "<Figure size 432x288 with 1 Axes>"
      ]
     },
     "metadata": {
      "needs_background": "light"
     },
     "output_type": "display_data"
    }
   ],
   "source": [
    "downlink_frequency = downlink_data.frequency / 1000000\n",
    "hist = downlink_frequency.value_counts().plot(kind='bar',rot=0)\n",
    "hist.set_xlabel(\"Frekvencia [MHz]\",fontsize=12)\n",
    "hist.set_ylabel(\"Počet správ\",fontsize=12)"
   ]
  },
  {
   "cell_type": "markdown",
   "metadata": {},
   "source": [
    "### Vysielací výkon (Power)"
   ]
  },
  {
   "cell_type": "code",
   "execution_count": 28,
   "metadata": {},
   "outputs": [
    {
     "data": {
      "text/plain": [
       "Text(0, 0.5, 'Počet správ')"
      ]
     },
     "execution_count": 28,
     "metadata": {},
     "output_type": "execute_result"
    },
    {
     "data": {
      "image/png": "[encoded data removed]",
      "text/plain": [
       "<Figure size 432x288 with 1 Axes>"
      ]
     },
     "metadata": {
      "needs_background": "light"
     },
     "output_type": "display_data"
    }
   ],
   "source": [
    "hist = downlink_data.power.value_counts().plot(kind=\"bar\",rot=0)\n",
    "hist.set_xlabel(\"Vysielací výkon [dBm]\",fontsize=12)\n",
    "hist.set_ylabel(\"Počet správ\",fontsize=12)"
   ]
  },
  {
   "cell_type": "markdown",
   "metadata": {},
   "source": [
    "### Trvanie prenosu"
   ]
  },
  {
   "cell_type": "code",
   "execution_count": 29,
   "metadata": {},
   "outputs": [
    {
     "data": {
      "text/plain": [
       "Text(0, 0.5, 'Počet správ')"
      ]
     },
     "execution_count": 29,
     "metadata": {},
     "output_type": "execute_result"
    },
    {
     "data": {
      "image/png": "[encoded data removed]",
      "text/plain": [
       "<Figure size 432x288 with 1 Axes>"
      ]
     },
     "metadata": {
      "needs_background": "light"
     },
     "output_type": "display_data"
    }
   ],
   "source": [
    "hist = downlink_data.airtime.value_counts().plot(kind=\"bar\",rot=0)\n",
    "hist.set_xlabel(\"ToA [ms]\",fontsize=12)\n",
    "hist.set_ylabel(\"Počet správ\",fontsize=12)"
   ]
  },
  {
   "cell_type": "markdown",
   "metadata": {},
   "source": [
    "## Koncové zariadenia"
   ]
  },
  {
   "cell_type": "markdown",
   "metadata": {},
   "source": [
    "Analýza činnosti koncových zariadení"
   ]
  },
  {
   "cell_type": "markdown",
   "metadata": {},
   "source": [
    "### 50 pripojených zariadení"
   ]
  },
  {
   "cell_type": "code",
   "execution_count": 31,
   "metadata": {},
   "outputs": [],
   "source": [
    "end_nodes = pd.read_csv('end_nodes_50.csv', delimiter=',')"
   ]
  },
  {
   "cell_type": "code",
   "execution_count": 32,
   "metadata": {},
   "outputs": [
    {
     "data": {
      "text/html": [
       "<div>\n",
       "<style scoped>\n",
       "    .dataframe tbody tr th:only-of-type {\n",
       "        vertical-align: middle;\n",
       "    }\n",
       "\n",
       "    .dataframe tbody tr th {\n",
       "        vertical-align: top;\n",
       "    }\n",
       "\n",
       "    .dataframe thead th {\n",
       "        text-align: right;\n",
       "    }\n",
       "</style>\n",
       "<table border=\"1\" class=\"dataframe\">\n",
       "  <thead>\n",
       "    <tr style=\"text-align: right;\">\n",
       "      <th></th>\n",
       "      <th>dev_id</th>\n",
       "      <th>active_time</th>\n",
       "      <th>uptime</th>\n",
       "      <th>collisions</th>\n",
       "    </tr>\n",
       "  </thead>\n",
       "  <tbody>\n",
       "    <tr>\n",
       "      <th>0</th>\n",
       "      <td>8utX</td>\n",
       "      <td>13.17</td>\n",
       "      <td>2881.36</td>\n",
       "      <td>0</td>\n",
       "    </tr>\n",
       "    <tr>\n",
       "      <th>1</th>\n",
       "      <td>tztI</td>\n",
       "      <td>13.72</td>\n",
       "      <td>2884.01</td>\n",
       "      <td>0</td>\n",
       "    </tr>\n",
       "    <tr>\n",
       "      <th>2</th>\n",
       "      <td>iU1v</td>\n",
       "      <td>11.44</td>\n",
       "      <td>2947.28</td>\n",
       "      <td>0</td>\n",
       "    </tr>\n",
       "    <tr>\n",
       "      <th>3</th>\n",
       "      <td>muIF</td>\n",
       "      <td>11.88</td>\n",
       "      <td>2888.77</td>\n",
       "      <td>0</td>\n",
       "    </tr>\n",
       "    <tr>\n",
       "      <th>4</th>\n",
       "      <td>Vs4q</td>\n",
       "      <td>14.59</td>\n",
       "      <td>2908.10</td>\n",
       "      <td>0</td>\n",
       "    </tr>\n",
       "  </tbody>\n",
       "</table>\n",
       "</div>"
      ],
      "text/plain": [
       "  dev_id  active_time   uptime  collisions\n",
       "0   8utX        13.17  2881.36           0\n",
       "1   tztI        13.72  2884.01           0\n",
       "2   iU1v        11.44  2947.28           0\n",
       "3   muIF        11.88  2888.77           0\n",
       "4   Vs4q        14.59  2908.10           0"
      ]
     },
     "execution_count": 32,
     "metadata": {},
     "output_type": "execute_result"
    }
   ],
   "source": [
    "end_nodes.head()"
   ]
  },
  {
   "cell_type": "markdown",
   "metadata": {},
   "source": [
    "### Histogram kolízií"
   ]
  },
  {
   "cell_type": "code",
   "execution_count": 33,
   "metadata": {},
   "outputs": [
    {
     "data": {
      "text/plain": [
       "Text(0, 0.5, 'Počet správ')"
      ]
     },
     "execution_count": 33,
     "metadata": {},
     "output_type": "execute_result"
    },
    {
     "data": {
      "image/png": "[encoded data removed]",
      "text/plain": [
       "<Figure size 432x288 with 1 Axes>"
      ]
     },
     "metadata": {
      "needs_background": "light"
     },
     "output_type": "display_data"
    }
   ],
   "source": [
    "hist = end_nodes.collisions.value_counts().plot(kind='bar',rot=0)\n",
    "hist.set_xlabel(\"Počet kolízií\",fontsize=12)\n",
    "hist.set_ylabel(\"Počet správ\",fontsize=12)"
   ]
  },
  {
   "cell_type": "markdown",
   "metadata": {},
   "source": [
    "### 50 pripojených zariadení"
   ]
  },
  {
   "cell_type": "code",
   "execution_count": 31,
   "metadata": {},
   "outputs": [],
   "source": [
    "end_nodes = pd.read_csv('end_nodes_50.csv', delimiter=',')"
   ]
  },
  {
   "cell_type": "code",
   "execution_count": 32,
   "metadata": {},
   "outputs": [
    {
     "data": {
      "text/html": [
       "<div>\n",
       "<style scoped>\n",
       "    .dataframe tbody tr th:only-of-type {\n",
       "        vertical-align: middle;\n",
       "    }\n",
       "\n",
       "    .dataframe tbody tr th {\n",
       "        vertical-align: top;\n",
       "    }\n",
       "\n",
       "    .dataframe thead th {\n",
       "        text-align: right;\n",
       "    }\n",
       "</style>\n",
       "<table border=\"1\" class=\"dataframe\">\n",
       "  <thead>\n",
       "    <tr style=\"text-align: right;\">\n",
       "      <th></th>\n",
       "      <th>dev_id</th>\n",
       "      <th>active_time</th>\n",
       "      <th>uptime</th>\n",
       "      <th>collisions</th>\n",
       "    </tr>\n",
       "  </thead>\n",
       "  <tbody>\n",
       "    <tr>\n",
       "      <th>0</th>\n",
       "      <td>8utX</td>\n",
       "      <td>13.17</td>\n",
       "      <td>2881.36</td>\n",
       "      <td>0</td>\n",
       "    </tr>\n",
       "    <tr>\n",
       "      <th>1</th>\n",
       "      <td>tztI</td>\n",
       "      <td>13.72</td>\n",
       "      <td>2884.01</td>\n",
       "      <td>0</td>\n",
       "    </tr>\n",
       "    <tr>\n",
       "      <th>2</th>\n",
       "      <td>iU1v</td>\n",
       "      <td>11.44</td>\n",
       "      <td>2947.28</td>\n",
       "      <td>0</td>\n",
       "    </tr>\n",
       "    <tr>\n",
       "      <th>3</th>\n",
       "      <td>muIF</td>\n",
       "      <td>11.88</td>\n",
       "      <td>2888.77</td>\n",
       "      <td>0</td>\n",
       "    </tr>\n",
       "    <tr>\n",
       "      <th>4</th>\n",
       "      <td>Vs4q</td>\n",
       "      <td>14.59</td>\n",
       "      <td>2908.10</td>\n",
       "      <td>0</td>\n",
       "    </tr>\n",
       "  </tbody>\n",
       "</table>\n",
       "</div>"
      ],
      "text/plain": [
       "  dev_id  active_time   uptime  collisions\n",
       "0   8utX        13.17  2881.36           0\n",
       "1   tztI        13.72  2884.01           0\n",
       "2   iU1v        11.44  2947.28           0\n",
       "3   muIF        11.88  2888.77           0\n",
       "4   Vs4q        14.59  2908.10           0"
      ]
     },
     "execution_count": 32,
     "metadata": {},
     "output_type": "execute_result"
    }
   ],
   "source": [
    "end_nodes.head()"
   ]
  },
  {
   "cell_type": "markdown",
   "metadata": {},
   "source": [
    "### Histogram kolízií"
   ]
  },
  {
   "cell_type": "code",
   "execution_count": 33,
   "metadata": {},
   "outputs": [
    {
     "data": {
      "text/plain": [
       "Text(0, 0.5, 'Počet správ')"
      ]
     },
     "execution_count": 33,
     "metadata": {},
     "output_type": "execute_result"
    },
    {
     "data": {
      "image/png": "[encoded data removed]",
      "text/plain": [
       "<Figure size 432x288 with 1 Axes>"
      ]
     },
     "metadata": {
      "needs_background": "light"
     },
     "output_type": "display_data"
    }
   ],
   "source": [
    "hist = end_nodes.collisions.value_counts().plot(kind='bar',rot=0)\n",
    "hist.set_xlabel(\"Počet kolízií\",fontsize=12)\n",
    "hist.set_ylabel(\"Počet správ\",fontsize=12)"
   ]
  },
  {
   "cell_type": "code",
   "execution_count": 34,
   "metadata": {
    "scrolled": true
   },
   "outputs": [
    {
     "data": {
      "text/html": [
       "<div>\n",
       "<style scoped>\n",
       "    .dataframe tbody tr th:only-of-type {\n",
       "        vertical-align: middle;\n",
       "    }\n",
       "\n",
       "    .dataframe tbody tr th {\n",
       "        vertical-align: top;\n",
       "    }\n",
       "\n",
       "    .dataframe thead th {\n",
       "        text-align: right;\n",
       "    }\n",
       "</style>\n",
       "<table border=\"1\" class=\"dataframe\">\n",
       "  <thead>\n",
       "    <tr style=\"text-align: right;\">\n",
       "      <th></th>\n",
       "      <th>active_time</th>\n",
       "      <th>uptime</th>\n",
       "      <th>collisions</th>\n",
       "    </tr>\n",
       "  </thead>\n",
       "  <tbody>\n",
       "    <tr>\n",
       "      <th>count</th>\n",
       "      <td>50.000000</td>\n",
       "      <td>50.000000</td>\n",
       "      <td>50.000000</td>\n",
       "    </tr>\n",
       "    <tr>\n",
       "      <th>mean</th>\n",
       "      <td>183.875400</td>\n",
       "      <td>2896.488800</td>\n",
       "      <td>0.380000</td>\n",
       "    </tr>\n",
       "    <tr>\n",
       "      <th>std</th>\n",
       "      <td>428.944655</td>\n",
       "      <td>36.238597</td>\n",
       "      <td>0.966585</td>\n",
       "    </tr>\n",
       "    <tr>\n",
       "      <th>min</th>\n",
       "      <td>7.740000</td>\n",
       "      <td>2841.000000</td>\n",
       "      <td>0.000000</td>\n",
       "    </tr>\n",
       "    <tr>\n",
       "      <th>25%</th>\n",
       "      <td>11.365000</td>\n",
       "      <td>2864.095000</td>\n",
       "      <td>0.000000</td>\n",
       "    </tr>\n",
       "    <tr>\n",
       "      <th>50%</th>\n",
       "      <td>12.610000</td>\n",
       "      <td>2897.225000</td>\n",
       "      <td>0.000000</td>\n",
       "    </tr>\n",
       "    <tr>\n",
       "      <th>75%</th>\n",
       "      <td>14.550000</td>\n",
       "      <td>2929.717500</td>\n",
       "      <td>0.000000</td>\n",
       "    </tr>\n",
       "    <tr>\n",
       "      <th>max</th>\n",
       "      <td>1931.950000</td>\n",
       "      <td>2952.990000</td>\n",
       "      <td>4.000000</td>\n",
       "    </tr>\n",
       "  </tbody>\n",
       "</table>\n",
       "</div>"
      ],
      "text/plain": [
       "       active_time       uptime  collisions\n",
       "count    50.000000    50.000000   50.000000\n",
       "mean    183.875400  2896.488800    0.380000\n",
       "std     428.944655    36.238597    0.966585\n",
       "min       7.740000  2841.000000    0.000000\n",
       "25%      11.365000  2864.095000    0.000000\n",
       "50%      12.610000  2897.225000    0.000000\n",
       "75%      14.550000  2929.717500    0.000000\n",
       "max    1931.950000  2952.990000    4.000000"
      ]
     },
     "execution_count": 34,
     "metadata": {},
     "output_type": "execute_result"
    }
   ],
   "source": [
    "end_nodes.describe()"
   ]
  },
  {
   "cell_type": "markdown",
   "metadata": {},
   "source": [
    "### 252 pripojených zariadení"
   ]
  },
  {
   "cell_type": "code",
   "execution_count": 36,
   "metadata": {},
   "outputs": [],
   "source": [
    "end_nodes = pd.read_csv('end_nodes_252.csv', delimiter=',')"
   ]
  },
  {
   "cell_type": "code",
   "execution_count": 37,
   "metadata": {},
   "outputs": [
    {
     "data": {
      "text/html": [
       "<div>\n",
       "<style scoped>\n",
       "    .dataframe tbody tr th:only-of-type {\n",
       "        vertical-align: middle;\n",
       "    }\n",
       "\n",
       "    .dataframe tbody tr th {\n",
       "        vertical-align: top;\n",
       "    }\n",
       "\n",
       "    .dataframe thead th {\n",
       "        text-align: right;\n",
       "    }\n",
       "</style>\n",
       "<table border=\"1\" class=\"dataframe\">\n",
       "  <thead>\n",
       "    <tr style=\"text-align: right;\">\n",
       "      <th></th>\n",
       "      <th>dev_id</th>\n",
       "      <th>active_time</th>\n",
       "      <th>uptime</th>\n",
       "      <th>collisions</th>\n",
       "    </tr>\n",
       "  </thead>\n",
       "  <tbody>\n",
       "    <tr>\n",
       "      <th>0</th>\n",
       "      <td>TIWJ</td>\n",
       "      <td>1010.06</td>\n",
       "      <td>724.59</td>\n",
       "      <td>0</td>\n",
       "    </tr>\n",
       "    <tr>\n",
       "      <th>1</th>\n",
       "      <td>rygh</td>\n",
       "      <td>799.88</td>\n",
       "      <td>4217.27</td>\n",
       "      <td>3</td>\n",
       "    </tr>\n",
       "    <tr>\n",
       "      <th>2</th>\n",
       "      <td>zhnh</td>\n",
       "      <td>610.94</td>\n",
       "      <td>4298.68</td>\n",
       "      <td>6</td>\n",
       "    </tr>\n",
       "    <tr>\n",
       "      <th>3</th>\n",
       "      <td>WLhc</td>\n",
       "      <td>392.19</td>\n",
       "      <td>391.13</td>\n",
       "      <td>0</td>\n",
       "    </tr>\n",
       "    <tr>\n",
       "      <th>4</th>\n",
       "      <td>1S5D</td>\n",
       "      <td>1778.56</td>\n",
       "      <td>6856.27</td>\n",
       "      <td>2</td>\n",
       "    </tr>\n",
       "  </tbody>\n",
       "</table>\n",
       "</div>"
      ],
      "text/plain": [
       "  dev_id  active_time   uptime  collisions\n",
       "0   TIWJ      1010.06   724.59           0\n",
       "1   rygh       799.88  4217.27           3\n",
       "2   zhnh       610.94  4298.68           6\n",
       "3   WLhc       392.19   391.13           0\n",
       "4   1S5D      1778.56  6856.27           2"
      ]
     },
     "execution_count": 37,
     "metadata": {},
     "output_type": "execute_result"
    }
   ],
   "source": [
    "end_nodes.head()"
   ]
  },
  {
   "cell_type": "markdown",
   "metadata": {},
   "source": [
    "### Histogram kolízií"
   ]
  },
  {
   "cell_type": "code",
   "execution_count": 43,
   "metadata": {},
   "outputs": [
    {
     "data": {
      "text/plain": [
       "Text(0, 0.5, 'Počet správ')"
      ]
     },
     "execution_count": 43,
     "metadata": {},
     "output_type": "execute_result"
    },
    {
     "data": {
      "image/png": "[encoded data removed]",
      "text/plain": [
       "<Figure size 1080x360 with 1 Axes>"
      ]
     },
     "metadata": {
      "needs_background": "light"
     },
     "output_type": "display_data"
    }
   ],
   "source": [
    "hist = end_nodes.collisions.value_counts().plot(kind='bar',figsize=(15,5),rot=0)\n",
    "hist.set_xlabel(\"Počet kolízií\",fontsize=12)\n",
    "hist.set_ylabel(\"Počet správ\",fontsize=12)"
   ]
  },
  {
   "cell_type": "code",
   "execution_count": 44,
   "metadata": {
    "scrolled": true
   },
   "outputs": [
    {
     "data": {
      "text/html": [
       "<div>\n",
       "<style scoped>\n",
       "    .dataframe tbody tr th:only-of-type {\n",
       "        vertical-align: middle;\n",
       "    }\n",
       "\n",
       "    .dataframe tbody tr th {\n",
       "        vertical-align: top;\n",
       "    }\n",
       "\n",
       "    .dataframe thead th {\n",
       "        text-align: right;\n",
       "    }\n",
       "</style>\n",
       "<table border=\"1\" class=\"dataframe\">\n",
       "  <thead>\n",
       "    <tr style=\"text-align: right;\">\n",
       "      <th></th>\n",
       "      <th>active_time</th>\n",
       "      <th>uptime</th>\n",
       "      <th>collisions</th>\n",
       "    </tr>\n",
       "  </thead>\n",
       "  <tbody>\n",
       "    <tr>\n",
       "      <th>count</th>\n",
       "      <td>252.000000</td>\n",
       "      <td>252.000000</td>\n",
       "      <td>252.000000</td>\n",
       "    </tr>\n",
       "    <tr>\n",
       "      <th>mean</th>\n",
       "      <td>842.666825</td>\n",
       "      <td>16728.879762</td>\n",
       "      <td>22.555556</td>\n",
       "    </tr>\n",
       "    <tr>\n",
       "      <th>std</th>\n",
       "      <td>1034.851563</td>\n",
       "      <td>5858.448500</td>\n",
       "      <td>11.597194</td>\n",
       "    </tr>\n",
       "    <tr>\n",
       "      <th>min</th>\n",
       "      <td>1.160000</td>\n",
       "      <td>391.130000</td>\n",
       "      <td>0.000000</td>\n",
       "    </tr>\n",
       "    <tr>\n",
       "      <th>25%</th>\n",
       "      <td>59.947500</td>\n",
       "      <td>19186.845000</td>\n",
       "      <td>14.000000</td>\n",
       "    </tr>\n",
       "    <tr>\n",
       "      <th>50%</th>\n",
       "      <td>548.975000</td>\n",
       "      <td>19475.850000</td>\n",
       "      <td>23.000000</td>\n",
       "    </tr>\n",
       "    <tr>\n",
       "      <th>75%</th>\n",
       "      <td>1211.742500</td>\n",
       "      <td>19674.772500</td>\n",
       "      <td>29.000000</td>\n",
       "    </tr>\n",
       "    <tr>\n",
       "      <th>max</th>\n",
       "      <td>6723.080000</td>\n",
       "      <td>19838.880000</td>\n",
       "      <td>60.000000</td>\n",
       "    </tr>\n",
       "  </tbody>\n",
       "</table>\n",
       "</div>"
      ],
      "text/plain": [
       "       active_time        uptime  collisions\n",
       "count   252.000000    252.000000  252.000000\n",
       "mean    842.666825  16728.879762   22.555556\n",
       "std    1034.851563   5858.448500   11.597194\n",
       "min       1.160000    391.130000    0.000000\n",
       "25%      59.947500  19186.845000   14.000000\n",
       "50%     548.975000  19475.850000   23.000000\n",
       "75%    1211.742500  19674.772500   29.000000\n",
       "max    6723.080000  19838.880000   60.000000"
      ]
     },
     "execution_count": 44,
     "metadata": {},
     "output_type": "execute_result"
    }
   ],
   "source": [
    "end_nodes.describe()"
   ]
  },
  {
   "cell_type": "markdown",
   "metadata": {},
   "source": [
    "### 305 pripojených zariadení"
   ]
  },
  {
   "cell_type": "code",
   "execution_count": 47,
   "metadata": {},
   "outputs": [],
   "source": [
    "end_nodes = pd.read_csv('end_nodes_305.csv', delimiter=',')"
   ]
  },
  {
   "cell_type": "code",
   "execution_count": 48,
   "metadata": {},
   "outputs": [
    {
     "data": {
      "text/html": [
       "<div>\n",
       "<style scoped>\n",
       "    .dataframe tbody tr th:only-of-type {\n",
       "        vertical-align: middle;\n",
       "    }\n",
       "\n",
       "    .dataframe tbody tr th {\n",
       "        vertical-align: top;\n",
       "    }\n",
       "\n",
       "    .dataframe thead th {\n",
       "        text-align: right;\n",
       "    }\n",
       "</style>\n",
       "<table border=\"1\" class=\"dataframe\">\n",
       "  <thead>\n",
       "    <tr style=\"text-align: right;\">\n",
       "      <th></th>\n",
       "      <th>dev_id</th>\n",
       "      <th>active_time</th>\n",
       "      <th>uptime</th>\n",
       "      <th>collisions</th>\n",
       "    </tr>\n",
       "  </thead>\n",
       "  <tbody>\n",
       "    <tr>\n",
       "      <th>0</th>\n",
       "      <td>AV9T</td>\n",
       "      <td>1.87</td>\n",
       "      <td>3782.17</td>\n",
       "      <td>1</td>\n",
       "    </tr>\n",
       "    <tr>\n",
       "      <th>1</th>\n",
       "      <td>7dbm</td>\n",
       "      <td>86.49</td>\n",
       "      <td>965.11</td>\n",
       "      <td>4</td>\n",
       "    </tr>\n",
       "    <tr>\n",
       "      <th>2</th>\n",
       "      <td>oZ1G</td>\n",
       "      <td>3826.96</td>\n",
       "      <td>1249.99</td>\n",
       "      <td>16</td>\n",
       "    </tr>\n",
       "    <tr>\n",
       "      <th>3</th>\n",
       "      <td>OBzA</td>\n",
       "      <td>3.38</td>\n",
       "      <td>3787.47</td>\n",
       "      <td>0</td>\n",
       "    </tr>\n",
       "    <tr>\n",
       "      <th>4</th>\n",
       "      <td>n587</td>\n",
       "      <td>619.89</td>\n",
       "      <td>1536.05</td>\n",
       "      <td>1</td>\n",
       "    </tr>\n",
       "  </tbody>\n",
       "</table>\n",
       "</div>"
      ],
      "text/plain": [
       "  dev_id  active_time   uptime  collisions\n",
       "0   AV9T         1.87  3782.17           1\n",
       "1   7dbm        86.49   965.11           4\n",
       "2   oZ1G      3826.96  1249.99          16\n",
       "3   OBzA         3.38  3787.47           0\n",
       "4   n587       619.89  1536.05           1"
      ]
     },
     "execution_count": 48,
     "metadata": {},
     "output_type": "execute_result"
    }
   ],
   "source": [
    "end_nodes.head()"
   ]
  },
  {
   "cell_type": "markdown",
   "metadata": {},
   "source": [
    "### Histogram kolízií"
   ]
  },
  {
   "cell_type": "code",
   "execution_count": 49,
   "metadata": {},
   "outputs": [
    {
     "data": {
      "text/plain": [
       "Text(0, 0.5, 'Počet správ')"
      ]
     },
     "execution_count": 49,
     "metadata": {},
     "output_type": "execute_result"
    },
    {
     "data": {
      "image/png": "[encoded data removed]",
      "text/plain": [
       "<Figure size 1080x360 with 1 Axes>"
      ]
     },
     "metadata": {
      "needs_background": "light"
     },
     "output_type": "display_data"
    }
   ],
   "source": [
    "hist = end_nodes.collisions.value_counts().plot(kind='bar',figsize=(15,5),rot=0)\n",
    "hist.set_xlabel(\"Počet kolízií\",fontsize=12)\n",
    "hist.set_ylabel(\"Počet správ\",fontsize=12)"
   ]
  },
  {
   "cell_type": "code",
   "execution_count": 50,
   "metadata": {
    "scrolled": false
   },
   "outputs": [
    {
     "data": {
      "text/html": [
       "<div>\n",
       "<style scoped>\n",
       "    .dataframe tbody tr th:only-of-type {\n",
       "        vertical-align: middle;\n",
       "    }\n",
       "\n",
       "    .dataframe tbody tr th {\n",
       "        vertical-align: top;\n",
       "    }\n",
       "\n",
       "    .dataframe thead th {\n",
       "        text-align: right;\n",
       "    }\n",
       "</style>\n",
       "<table border=\"1\" class=\"dataframe\">\n",
       "  <thead>\n",
       "    <tr style=\"text-align: right;\">\n",
       "      <th></th>\n",
       "      <th>active_time</th>\n",
       "      <th>uptime</th>\n",
       "      <th>collisions</th>\n",
       "    </tr>\n",
       "  </thead>\n",
       "  <tbody>\n",
       "    <tr>\n",
       "      <th>count</th>\n",
       "      <td>305.000000</td>\n",
       "      <td>305.000000</td>\n",
       "      <td>305.000000</td>\n",
       "    </tr>\n",
       "    <tr>\n",
       "      <th>mean</th>\n",
       "      <td>499.813213</td>\n",
       "      <td>3149.963049</td>\n",
       "      <td>8.895082</td>\n",
       "    </tr>\n",
       "    <tr>\n",
       "      <th>std</th>\n",
       "      <td>972.667626</td>\n",
       "      <td>580.550126</td>\n",
       "      <td>7.924945</td>\n",
       "    </tr>\n",
       "    <tr>\n",
       "      <th>min</th>\n",
       "      <td>1.420000</td>\n",
       "      <td>965.110000</td>\n",
       "      <td>0.000000</td>\n",
       "    </tr>\n",
       "    <tr>\n",
       "      <th>25%</th>\n",
       "      <td>6.160000</td>\n",
       "      <td>2859.030000</td>\n",
       "      <td>1.000000</td>\n",
       "    </tr>\n",
       "    <tr>\n",
       "      <th>50%</th>\n",
       "      <td>22.420000</td>\n",
       "      <td>3305.840000</td>\n",
       "      <td>8.000000</td>\n",
       "    </tr>\n",
       "    <tr>\n",
       "      <th>75%</th>\n",
       "      <td>547.640000</td>\n",
       "      <td>3585.370000</td>\n",
       "      <td>15.000000</td>\n",
       "    </tr>\n",
       "    <tr>\n",
       "      <th>max</th>\n",
       "      <td>8309.560000</td>\n",
       "      <td>3800.470000</td>\n",
       "      <td>37.000000</td>\n",
       "    </tr>\n",
       "  </tbody>\n",
       "</table>\n",
       "</div>"
      ],
      "text/plain": [
       "       active_time       uptime  collisions\n",
       "count   305.000000   305.000000  305.000000\n",
       "mean    499.813213  3149.963049    8.895082\n",
       "std     972.667626   580.550126    7.924945\n",
       "min       1.420000   965.110000    0.000000\n",
       "25%       6.160000  2859.030000    1.000000\n",
       "50%      22.420000  3305.840000    8.000000\n",
       "75%     547.640000  3585.370000   15.000000\n",
       "max    8309.560000  3800.470000   37.000000"
      ]
     },
     "execution_count": 50,
     "metadata": {},
     "output_type": "execute_result"
    }
   ],
   "source": [
    "end_nodes.describe()"
   ]
  }
 ],
 "metadata": {
  "kernelspec": {
   "display_name": "Python 3",
   "language": "python",
   "name": "python3"
  },
  "language_info": {
   "codemirror_mode": {
    "name": "ipython",
    "version": 3
   },
   "file_extension": ".py",
   "mimetype": "text/x-python",
   "name": "python",
   "nbconvert_exporter": "python",
   "pygments_lexer": "ipython3",
   "version": "3.7.6"
  }
 },
 "nbformat": 4,
 "nbformat_minor": 2
}
